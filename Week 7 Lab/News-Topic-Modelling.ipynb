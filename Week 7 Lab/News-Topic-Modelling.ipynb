{
 "cells": [
  {
   "cell_type": "markdown",
   "metadata": {},
   "source": [
    "# Topic Modelling for News"
   ]
  },
  {
   "cell_type": "markdown",
   "metadata": {},
   "source": [
    "![](https://images.unsplash.com/photo-1495020689067-958852a7765e?ixlib=rb-1.2.1&ixid=eyJhcHBfaWQiOjEyMDd9&auto=format&fit=crop&w=1050&q=80)\n",
    "\n",
    "Photo by [Roman Kraft](https://unsplash.com/photos/_Zua2hyvTBk)"
   ]
  },
  {
   "cell_type": "markdown",
   "metadata": {},
   "source": [
    "This exercise is about modelling the main topics of a database of News headlines."
   ]
  },
  {
   "cell_type": "markdown",
   "metadata": {},
   "source": [
    "Begin by importing the needed libraries:"
   ]
  },
  {
   "cell_type": "code",
   "execution_count": 3,
   "metadata": {},
   "outputs": [],
   "source": [
    "# TODO: import needed libraries\n",
    "import pandas as pd\n",
    "import numpy as np \n",
    "import nltk"
   ]
  },
  {
   "cell_type": "markdown",
   "metadata": {},
   "source": [
    "Load the data in the file `random_headlines.csv`"
   ]
  },
  {
   "cell_type": "code",
   "execution_count": 4,
   "metadata": {
    "scrolled": true
   },
   "outputs": [
    {
     "name": "stdout",
     "output_type": "stream",
     "text": [
      "(20000, 2)\n"
     ]
    },
    {
     "data": {
      "text/html": [
       "<div>\n",
       "<style scoped>\n",
       "    .dataframe tbody tr th:only-of-type {\n",
       "        vertical-align: middle;\n",
       "    }\n",
       "\n",
       "    .dataframe tbody tr th {\n",
       "        vertical-align: top;\n",
       "    }\n",
       "\n",
       "    .dataframe thead th {\n",
       "        text-align: right;\n",
       "    }\n",
       "</style>\n",
       "<table border=\"1\" class=\"dataframe\">\n",
       "  <thead>\n",
       "    <tr style=\"text-align: right;\">\n",
       "      <th></th>\n",
       "      <th>publish_date</th>\n",
       "      <th>headline_text</th>\n",
       "    </tr>\n",
       "  </thead>\n",
       "  <tbody>\n",
       "    <tr>\n",
       "      <th>0</th>\n",
       "      <td>20120305</td>\n",
       "      <td>ute driver hurt in intersection crash</td>\n",
       "    </tr>\n",
       "    <tr>\n",
       "      <th>1</th>\n",
       "      <td>20081128</td>\n",
       "      <td>6yo dies in cycling accident</td>\n",
       "    </tr>\n",
       "    <tr>\n",
       "      <th>2</th>\n",
       "      <td>20090325</td>\n",
       "      <td>bumper olive harvest expected</td>\n",
       "    </tr>\n",
       "    <tr>\n",
       "      <th>3</th>\n",
       "      <td>20100201</td>\n",
       "      <td>replica replaces northernmost sign</td>\n",
       "    </tr>\n",
       "    <tr>\n",
       "      <th>4</th>\n",
       "      <td>20080225</td>\n",
       "      <td>woods targets perfect season</td>\n",
       "    </tr>\n",
       "  </tbody>\n",
       "</table>\n",
       "</div>"
      ],
      "text/plain": [
       "   publish_date                          headline_text\n",
       "0      20120305  ute driver hurt in intersection crash\n",
       "1      20081128           6yo dies in cycling accident\n",
       "2      20090325          bumper olive harvest expected\n",
       "3      20100201     replica replaces northernmost sign\n",
       "4      20080225           woods targets perfect season"
      ]
     },
     "execution_count": 4,
     "metadata": {},
     "output_type": "execute_result"
    }
   ],
   "source": [
    "# TODO: load the dataset\n",
    "\n",
    "df = pd.read_csv('random_headlines.csv')\n",
    "print(df.shape)\n",
    "df.head()"
   ]
  },
  {
   "cell_type": "markdown",
   "metadata": {},
   "source": [
    "This is always a good idea to perform some EDA (exploratory data analytics) on a dataset..."
   ]
  },
  {
   "cell_type": "code",
   "execution_count": 5,
   "metadata": {},
   "outputs": [
    {
     "name": "stdout",
     "output_type": "stream",
     "text": [
      "<class 'pandas.core.frame.DataFrame'>\n",
      "RangeIndex: 20000 entries, 0 to 19999\n",
      "Data columns (total 2 columns):\n",
      " #   Column         Non-Null Count  Dtype \n",
      "---  ------         --------------  ----- \n",
      " 0   publish_date   20000 non-null  int64 \n",
      " 1   headline_text  20000 non-null  object\n",
      "dtypes: int64(1), object(1)\n",
      "memory usage: 312.6+ KB\n"
     ]
    }
   ],
   "source": [
    "# TODO: Perform a short EDA\n",
    "df.info()"
   ]
  },
  {
   "cell_type": "markdown",
   "metadata": {},
   "source": [
    "Now perform all the needed preprocessing on those headlines: case lowering, tokenization, punctuation removal, stopwords removal, stemming/lemmatization."
   ]
  },
  {
   "cell_type": "code",
   "execution_count": 6,
   "metadata": {},
   "outputs": [
    {
     "data": {
      "text/plain": [
       "0    [ute, driver, hurt, intersect, crash]\n",
       "1                       [die, cycl, accid]\n",
       "2          [bumper, oliv, harvest, expect]\n",
       "3    [replica, replac, northernmost, sign]\n",
       "4          [wood, target, perfect, season]\n",
       "Name: stemmed, dtype: object"
      ]
     },
     "execution_count": 6,
     "metadata": {},
     "output_type": "execute_result"
    }
   ],
   "source": [
    "# TODO: Preprocess the input data\n",
    "\n",
    "#First tokenize the data \n",
    "df['tokenized'] = df['headline_text'].apply(lambda x: nltk.word_tokenize(x))\n",
    "\n",
    "#Remove punctuation\n",
    "df['tokenized_no_punc'] = df['tokenized'].apply(lambda x: [word for word in x if word.isalpha()])\n",
    "\n",
    "#Remove stopwards\n",
    "stop = nltk.corpus.stopwords.words('english')\n",
    "df['no_stop_words'] = df['tokenized_no_punc'].apply(lambda x: [word for word in x if word not in stop])\n",
    "\n",
    "#Perform stemming\n",
    "stemmer = nltk.PorterStemmer()\n",
    "df['stemmed'] = df['no_stop_words'].apply(lambda x: [stemmer.stem(word) for word in x])\n",
    "\n",
    "df['stemmed'].head()"
   ]
  },
  {
   "cell_type": "markdown",
   "metadata": {},
   "source": [
    "Now use Gensim to compute a BOW"
   ]
  },
  {
   "cell_type": "code",
   "execution_count": 10,
   "metadata": {},
   "outputs": [
    {
     "name": "stdout",
     "output_type": "stream",
     "text": [
      "(20000,)\n"
     ]
    },
    {
     "name": "stderr",
     "output_type": "stream",
     "text": [
      "C:\\Users\\adela\\AppData\\Local\\Temp\\ipykernel_12140\\418846654.py:6: VisibleDeprecationWarning: Creating an ndarray from ragged nested sequences (which is a list-or-tuple of lists-or-tuples-or ndarrays with different lengths or shapes) is deprecated. If you meant to do this, you must specify 'dtype=object' when creating the ndarray.\n",
      "  print(np.array(corpus).shape)\n"
     ]
    },
    {
     "data": {
      "text/plain": [
       "[[(0, 1), (1, 1), (2, 1), (3, 1), (4, 1)], [(5, 1), (6, 1), (7, 1)]]"
      ]
     },
     "execution_count": 10,
     "metadata": {},
     "output_type": "execute_result"
    }
   ],
   "source": [
    "# TODO: Compute the BOW using Gensim\n",
    "from gensim.corpora import Dictionary\n",
    "\n",
    "dictionary = Dictionary(df['stemmed'])\n",
    "corpus = [dictionary.doc2bow(line) for line in df['stemmed']] #Calculate BOW for each line and return corpus\n",
    "print(np.array(corpus).shape)\n",
    "corpus[0:2]\n"
   ]
  },
  {
   "cell_type": "markdown",
   "metadata": {},
   "source": [
    "Compute the TF-IDF using Gensim"
   ]
  },
  {
   "cell_type": "code",
   "execution_count": 13,
   "metadata": {},
   "outputs": [
    {
     "name": "stdout",
     "output_type": "stream",
     "text": [
      "(20000,)\n"
     ]
    },
    {
     "name": "stderr",
     "output_type": "stream",
     "text": [
      "C:\\Users\\adela\\AppData\\Roaming\\Python\\Python39\\site-packages\\numpy\\core\\fromnumeric.py:2007: VisibleDeprecationWarning: Creating an ndarray from ragged nested sequences (which is a list-or-tuple of lists-or-tuples-or ndarrays with different lengths or shapes) is deprecated. If you meant to do this, you must specify 'dtype=object' when creating the ndarray.\n",
      "  result = asarray(a).shape\n"
     ]
    }
   ],
   "source": [
    "# TODO: Compute TF-IDF\n",
    "from gensim.models import TfidfModel\n",
    "\n",
    "tfidf_model = TfidfModel(corpus)\n",
    "tf_idf = tfidf_model[corpus]\n",
    "print(np.shape(tf_idf))"
   ]
  },
  {
   "cell_type": "markdown",
   "metadata": {},
   "source": [
    "Finally compute the **LSA** (also called LSI) using Gensim, for a given number of Topics that you choose yourself"
   ]
  },
  {
   "cell_type": "code",
   "execution_count": 14,
   "metadata": {},
   "outputs": [],
   "source": [
    "# TODO: Compute LSA\n",
    "from gensim.models import LsiModel\n",
    "\n",
    "lsi = LsiModel(corpus=corpus, num_topics = 4, id2word = dictionary)"
   ]
  },
  {
   "cell_type": "markdown",
   "metadata": {},
   "source": [
    "For each of the topic, show the most significant words."
   ]
  },
  {
   "cell_type": "code",
   "execution_count": 15,
   "metadata": {},
   "outputs": [
    {
     "data": {
      "text/plain": [
       "[(0, '-0.752*\"polic\" + -0.404*\"man\" + -0.208*\"charg\"'),\n",
       " (1, '-0.670*\"man\" + 0.574*\"polic\" + -0.330*\"charg\"'),\n",
       " (2, '-0.654*\"new\" + -0.296*\"plan\" + 0.242*\"man\"'),\n",
       " (3, '-0.703*\"new\" + 0.346*\"say\" + 0.335*\"plan\"')]"
      ]
     },
     "execution_count": 15,
     "metadata": {},
     "output_type": "execute_result"
    }
   ],
   "source": [
    "# TODO: Print the 3 or 4 most significant words of each topic\n",
    "lsi.print_topics(num_words=3)"
   ]
  },
  {
   "cell_type": "code",
   "execution_count": 17,
   "metadata": {},
   "outputs": [],
   "source": [
    "#First two rows look the same but different order, same with bottom 2 rows\n",
    "#Common words in news article"
   ]
  },
  {
   "cell_type": "markdown",
   "metadata": {},
   "source": [
    "What do you think about those results?"
   ]
  },
  {
   "cell_type": "markdown",
   "metadata": {},
   "source": [
    "Now let's try to use LDA instead of LSA using Gensim"
   ]
  },
  {
   "cell_type": "code",
   "execution_count": 20,
   "metadata": {},
   "outputs": [],
   "source": [
    "# TODO: Compute LDA\n",
    "from gensim.models import LdaModel\n",
    "\n",
    "lda = LdaModel(corpus=corpus, num_topics=4, id2word=dictionary, random_state=0, chunksize=512, passes = 5)"
   ]
  },
  {
   "cell_type": "code",
   "execution_count": 22,
   "metadata": {
    "scrolled": true
   },
   "outputs": [
    {
     "data": {
      "text/plain": [
       "[(0, '0.016*\"report\" + 0.009*\"back\" + 0.009*\"may\"'),\n",
       " (1, '0.012*\"mine\" + 0.011*\"polic\" + 0.009*\"elect\"'),\n",
       " (2, '0.013*\"question\" + 0.010*\"council\" + 0.010*\"fund\"'),\n",
       " (3, '0.012*\"sydney\" + 0.012*\"charg\" + 0.011*\"australian\"')]"
      ]
     },
     "execution_count": 22,
     "metadata": {},
     "output_type": "execute_result"
    }
   ],
   "source": [
    "# TODO: print the most frequent words of each topic\n",
    "lda.print_topics(num_words=3)"
   ]
  },
  {
   "cell_type": "markdown",
   "metadata": {},
   "source": [
    "Now, how does it work with LDA?"
   ]
  },
  {
   "cell_type": "markdown",
   "metadata": {},
   "source": [
    "Let's make some visualization of the LDA results using pyLDAvis."
   ]
  },
  {
   "cell_type": "code",
   "execution_count": 30,
   "metadata": {},
   "outputs": [
    {
     "name": "stderr",
     "output_type": "stream",
     "text": [
      "C:\\Users\\adela\\AppData\\Roaming\\Python\\Python39\\site-packages\\pyLDAvis\\_prepare.py:246: FutureWarning: In a future version of pandas all arguments of DataFrame.drop except for the argument 'labels' will be keyword-only.\n",
      "  default_term_info = default_term_info.sort_values(\n"
     ]
    },
    {
     "data": {
      "text/html": [
       "\n",
       "<link rel=\"stylesheet\" type=\"text/css\" href=\"https://cdn.jsdelivr.net/gh/bmabey/pyLDAvis@3.3.1/pyLDAvis/js/ldavis.v1.0.0.css\">\n",
       "\n",
       "\n",
       "<div id=\"ldavis_el1214015786137511364500568754\"></div>\n",
       "<script type=\"text/javascript\">\n",
       "\n",
       "var ldavis_el1214015786137511364500568754_data = {\"mdsDat\": {\"x\": [-0.22849451618066158, -0.14962673386400785, 0.21956891594391156, 0.1585523341007578], \"y\": [-0.02862290469493514, -0.01071858333385112, -0.23570065210761132, 0.27504214013639766], \"topics\": [1, 2, 3, 4], \"cluster\": [1, 1, 1, 1], \"Freq\": [26.895074507485123, 26.67452775176566, 23.918069155716655, 22.512328585032563]}, \"tinfo\": {\"Term\": [\"report\", \"question\", \"mine\", \"sydney\", \"charg\", \"council\", \"australian\", \"fund\", \"interview\", \"elect\", \"back\", \"win\", \"may\", \"labor\", \"trial\", \"union\", \"road\", \"cut\", \"call\", \"govern\", \"final\", \"lead\", \"stori\", \"begin\", \"want\", \"urg\", \"warn\", \"govt\", \"forc\", \"attack\", \"question\", \"council\", \"fund\", \"cut\", \"govern\", \"urg\", \"forc\", \"set\", \"want\", \"aussi\", \"support\", \"concern\", \"farmer\", \"approv\", \"group\", \"doctor\", \"claim\", \"hospit\", \"school\", \"mp\", \"citi\", \"coast\", \"team\", \"figur\", \"ban\", \"reduc\", \"titl\", \"men\", \"job\", \"seek\", \"disput\", \"draw\", \"next\", \"drug\", \"govt\", \"plan\", \"new\", \"say\", \"wa\", \"fear\", \"polic\", \"chang\", \"mine\", \"elect\", \"win\", \"road\", \"final\", \"warn\", \"commun\", \"club\", \"run\", \"rise\", \"station\", \"student\", \"drought\", \"perth\", \"woman\", \"rate\", \"found\", \"search\", \"debat\", \"stage\", \"fall\", \"turnbul\", \"held\", \"record\", \"minist\", \"world\", \"injuri\", \"telstra\", \"countri\", \"review\", \"qld\", \"econom\", \"friday\", \"eye\", \"debt\", \"polic\", \"call\", \"water\", \"help\", \"health\", \"take\", \"trade\", \"futur\", \"miss\", \"hit\", \"sydney\", \"charg\", \"australian\", \"interview\", \"trial\", \"stori\", \"lead\", \"murder\", \"market\", \"open\", \"shoot\", \"accus\", \"leav\", \"day\", \"test\", \"two\", \"busi\", \"success\", \"olymp\", \"bu\", \"risk\", \"point\", \"board\", \"arm\", \"pull\", \"full\", \"second\", \"appoint\", \"hope\", \"fourth\", \"latest\", \"sieg\", \"line\", \"sold\", \"man\", \"melbourn\", \"polic\", \"court\", \"us\", \"report\", \"back\", \"may\", \"labor\", \"union\", \"begin\", \"blaze\", \"car\", \"die\", \"drum\", \"work\", \"news\", \"pole\", \"dead\", \"judg\", \"abc\", \"great\", \"rural\", \"collaps\", \"resid\", \"state\", \"train\", \"garrett\", \"iraq\", \"pakistan\", \"big\", \"fail\", \"deni\", \"former\", \"bid\", \"italian\", \"singapor\", \"lock\", \"sunday\", \"paint\", \"attack\", \"pay\", \"crash\", \"call\", \"kill\", \"man\", \"us\"], \"Freq\": [373.0, 354.0, 336.0, 298.0, 284.0, 284.0, 259.0, 264.0, 229.0, 235.0, 203.0, 229.0, 202.0, 190.0, 195.0, 183.0, 206.0, 206.0, 366.0, 199.0, 195.0, 176.0, 175.0, 167.0, 188.0, 183.0, 179.0, 343.0, 180.0, 229.0, 353.68671010678196, 283.8718872181988, 264.1865091588823, 206.06010996733173, 198.9801574879156, 182.7054266535808, 179.85016631067614, 172.33401188193358, 187.95249320783375, 167.20131198210208, 162.58847219213385, 147.4989478855824, 142.8667964360708, 142.53792003043412, 135.913738134732, 138.28052784499522, 132.44245769525585, 127.64946569074505, 120.17116365655652, 119.476342224004, 124.8355526002759, 115.4375071435768, 125.00912625880638, 122.95995745600284, 112.60328019167183, 120.00947508457136, 135.00881406954272, 120.30707765166609, 107.5808995924653, 105.93171855906607, 112.26999666745674, 109.14978241141593, 109.46810999969723, 166.95623507316654, 232.09831733559307, 208.72779152269575, 221.35908162066718, 162.21444530636717, 147.63155975394372, 133.93789710372752, 172.33802068950345, 127.50584245030878, 335.9861991388563, 234.94211111548233, 228.47922993870182, 206.08159424574404, 194.3796805353138, 179.21943037140923, 147.22234737076738, 150.34998039291364, 155.48980572017865, 140.20628885012647, 137.64904947702055, 146.03149133615682, 152.75322877283358, 145.5412790284874, 127.96685940876411, 126.63543115917221, 120.23060881762466, 116.99802132511434, 111.63447323416406, 117.17385447009777, 109.06181437233298, 115.31121846223407, 113.86968741711695, 102.2108909299112, 102.14927669190605, 100.66861710122643, 116.18394878069981, 111.88293089670515, 95.2300041356186, 95.70890032263682, 167.04329729409477, 115.56304037686066, 111.97449207562282, 113.39061282279117, 104.52968893645782, 291.3805747208813, 185.11739755216746, 129.44110270806098, 137.6523500122105, 123.09721920542566, 125.76486721515546, 121.02954222765446, 121.71997850792714, 118.87357911939732, 118.5997366456657, 298.1988960418956, 283.70092755981983, 258.8361117566651, 229.09927924051345, 194.48711632058638, 175.10021987602326, 175.71777757194246, 163.8384360878221, 152.25798951192536, 146.6896978072392, 141.0255947329738, 136.23250099310556, 133.5419097726564, 130.03597922288938, 122.43040757452162, 121.84439850011806, 114.17305580305641, 110.27856644320664, 110.4282995603166, 104.84538191012521, 113.75217136810309, 103.38909479859969, 104.27675257252905, 102.27470058977921, 97.05353513392424, 100.93114752384335, 93.29620971926586, 97.17892976359188, 95.89743412737397, 99.42290402621443, 101.517453687765, 99.22014043012801, 99.90121815031569, 98.87192866190388, 229.19455356365623, 125.23254448248815, 217.12449203545142, 145.11863130305727, 113.4302863017884, 373.02390074704516, 202.44723300753142, 201.5434517736087, 189.37700378082928, 182.58559877544192, 166.59099185261763, 154.3086377937461, 134.5300962838082, 120.64853534940845, 121.38201199424621, 114.24323294889324, 109.05105632892854, 114.67950738250434, 106.25846975592901, 113.35712209323805, 101.13510328821981, 105.94949087750639, 93.38085087882732, 119.80616486406008, 90.91923705129675, 91.31099675840184, 89.95203927114481, 94.82212135456317, 79.59758478446179, 79.36637492932135, 75.21858972311502, 74.02450557660143, 72.50683733335279, 71.76621402609337, 71.98695931759757, 104.84225830719463, 103.54910496444762, 99.86866523434473, 96.68515784012257, 92.89689976423018, 187.16479717912003, 135.05509903190944, 156.59496749163304, 181.1901228649302, 143.05904905069795, 112.82693546058115, 100.26635091736306], \"Total\": [373.0, 354.0, 336.0, 298.0, 284.0, 284.0, 259.0, 264.0, 229.0, 235.0, 203.0, 229.0, 202.0, 190.0, 195.0, 183.0, 206.0, 206.0, 366.0, 199.0, 195.0, 176.0, 175.0, 167.0, 188.0, 183.0, 179.0, 343.0, 180.0, 229.0, 354.47323333938766, 284.57327008783284, 264.9282798819435, 206.7807556319279, 199.69834289583596, 183.4052514030729, 180.57448220743112, 173.04809253915914, 188.74530460867595, 167.93147431267332, 163.31641747083538, 148.20218525679374, 143.5677622650009, 143.26481281367518, 136.61464190793163, 138.99844620004197, 133.1505297854883, 128.3586043350073, 120.87807222354927, 120.18424822529092, 125.58623776427349, 116.13343074811065, 125.76287536522152, 123.72484962552949, 113.31005505079837, 120.76390012834224, 135.86458321602345, 121.07837544867766, 108.27916837742232, 106.64358400451478, 113.04583204791723, 109.94216226810951, 110.3550304141659, 205.25857463849422, 343.38427705926654, 322.727587408447, 442.1832862658951, 329.544462490334, 254.60463231225404, 184.55965095509532, 698.4397997024621, 169.20756820424344, 336.73423084027183, 235.66406727261747, 229.1966372362305, 206.80023360624443, 195.09802756073245, 179.93707931341885, 147.9322336074625, 151.09132658638683, 156.26707372929044, 140.9096899814009, 138.36984378264498, 146.80139381008854, 153.5617479631107, 146.3154142933176, 128.6821532531942, 127.3603361043057, 120.94372148305406, 117.70669126001339, 112.33996879700632, 117.91738541937717, 109.77346020297166, 116.07350552851004, 114.63969953780682, 102.919874741396, 102.85797827780584, 101.37592688789996, 117.01873616399718, 112.70453277926184, 95.93072968202004, 96.42169318887171, 168.45924576970617, 116.48192335728572, 112.88798064565333, 114.38836732786643, 105.57417196478278, 698.4397997024621, 366.78372004843857, 180.52549357148087, 224.36905205455074, 164.41440563483346, 195.0608210404461, 161.49891822104067, 176.4943892446038, 166.21071256346153, 182.0924330631498, 298.92509983481096, 284.41814978446007, 259.6078840169319, 229.8081173074515, 195.22235257901013, 175.833504300479, 176.45827791687634, 164.5527853011048, 152.98236637161213, 147.41722937150746, 141.75453077551552, 136.95918705344164, 134.26751701292, 130.75362218137246, 123.15162232270498, 122.57520386427731, 114.90464247498039, 111.00906667829314, 111.17449957112596, 105.57895327814877, 114.57113680548746, 104.14762968089134, 105.04300385544505, 103.02903585057396, 97.77233993056238, 101.69157198609119, 94.0070022404694, 97.92184565637994, 96.63103048236012, 100.18873632782976, 102.32116656347266, 99.9959217692418, 100.72914035402081, 99.8400026464309, 385.3672751506182, 150.84881591936573, 698.4397997024621, 257.28832640598455, 214.17785367709803, 373.7443216386976, 203.15187349911784, 202.24677313816127, 190.13272790980676, 183.32458670862454, 167.3042496034848, 155.0483858106794, 135.22544686171832, 121.33747490713604, 122.08261810108108, 114.94269687212446, 109.73790878806754, 115.4019929481862, 106.95604145824863, 114.10606512201845, 101.81972699397224, 106.66846878207126, 94.07101448951899, 120.69704018304564, 91.6179222466801, 92.01751904621679, 90.65905215602346, 95.59932207148347, 80.28864900990983, 80.07518122238832, 75.92538403850024, 74.72160252514098, 73.2074531941978, 72.46604251543742, 72.69556725948082, 105.93199088312188, 104.62491006881615, 101.01636957063917, 97.93447219646096, 94.81701319702863, 229.99392784444527, 162.41088274217975, 201.35010680720714, 366.78372004843857, 228.6128218599515, 385.3672751506182, 214.17785367709803], \"Category\": [\"Default\", \"Default\", \"Default\", \"Default\", \"Default\", \"Default\", \"Default\", \"Default\", \"Default\", \"Default\", \"Default\", \"Default\", \"Default\", \"Default\", \"Default\", \"Default\", \"Default\", \"Default\", \"Default\", \"Default\", \"Default\", \"Default\", \"Default\", \"Default\", \"Default\", \"Default\", \"Default\", \"Default\", \"Default\", \"Default\", \"Topic1\", \"Topic1\", \"Topic1\", \"Topic1\", \"Topic1\", \"Topic1\", \"Topic1\", \"Topic1\", \"Topic1\", \"Topic1\", \"Topic1\", \"Topic1\", \"Topic1\", \"Topic1\", \"Topic1\", \"Topic1\", \"Topic1\", \"Topic1\", \"Topic1\", \"Topic1\", \"Topic1\", \"Topic1\", \"Topic1\", \"Topic1\", \"Topic1\", \"Topic1\", \"Topic1\", \"Topic1\", \"Topic1\", \"Topic1\", \"Topic1\", \"Topic1\", \"Topic1\", \"Topic1\", \"Topic1\", \"Topic1\", \"Topic1\", \"Topic1\", \"Topic1\", \"Topic1\", \"Topic1\", \"Topic1\", \"Topic2\", \"Topic2\", \"Topic2\", \"Topic2\", \"Topic2\", \"Topic2\", \"Topic2\", \"Topic2\", \"Topic2\", \"Topic2\", \"Topic2\", \"Topic2\", \"Topic2\", \"Topic2\", \"Topic2\", \"Topic2\", \"Topic2\", \"Topic2\", \"Topic2\", \"Topic2\", \"Topic2\", \"Topic2\", \"Topic2\", \"Topic2\", \"Topic2\", \"Topic2\", \"Topic2\", \"Topic2\", \"Topic2\", \"Topic2\", \"Topic2\", \"Topic2\", \"Topic2\", \"Topic2\", \"Topic2\", \"Topic2\", \"Topic2\", \"Topic2\", \"Topic2\", \"Topic2\", \"Topic2\", \"Topic2\", \"Topic2\", \"Topic2\", \"Topic2\", \"Topic3\", \"Topic3\", \"Topic3\", \"Topic3\", \"Topic3\", \"Topic3\", \"Topic3\", \"Topic3\", \"Topic3\", \"Topic3\", \"Topic3\", \"Topic3\", \"Topic3\", \"Topic3\", \"Topic3\", \"Topic3\", \"Topic3\", \"Topic3\", \"Topic3\", \"Topic3\", \"Topic3\", \"Topic3\", \"Topic3\", \"Topic3\", \"Topic3\", \"Topic3\", \"Topic3\", \"Topic3\", \"Topic3\", \"Topic3\", \"Topic3\", \"Topic3\", \"Topic3\", \"Topic3\", \"Topic3\", \"Topic3\", \"Topic3\", \"Topic3\", \"Topic3\", \"Topic4\", \"Topic4\", \"Topic4\", \"Topic4\", \"Topic4\", \"Topic4\", \"Topic4\", \"Topic4\", \"Topic4\", \"Topic4\", \"Topic4\", \"Topic4\", \"Topic4\", \"Topic4\", \"Topic4\", \"Topic4\", \"Topic4\", \"Topic4\", \"Topic4\", \"Topic4\", \"Topic4\", \"Topic4\", \"Topic4\", \"Topic4\", \"Topic4\", \"Topic4\", \"Topic4\", \"Topic4\", \"Topic4\", \"Topic4\", \"Topic4\", \"Topic4\", \"Topic4\", \"Topic4\", \"Topic4\", \"Topic4\", \"Topic4\", \"Topic4\", \"Topic4\", \"Topic4\", \"Topic4\", \"Topic4\"], \"logprob\": [30.0, 29.0, 28.0, 27.0, 26.0, 25.0, 24.0, 23.0, 22.0, 21.0, 20.0, 19.0, 18.0, 17.0, 16.0, 15.0, 14.0, 13.0, 12.0, 11.0, 10.0, 9.0, 8.0, 7.0, 6.0, 5.0, 4.0, 3.0, 2.0, 1.0, -4.3569, -4.5768, -4.6486, -4.8971, -4.9321, -5.0174, -5.0332, -5.0759, -4.9891, -5.1061, -5.1341, -5.2315, -5.2634, -5.2657, -5.3133, -5.296, -5.3391, -5.376, -5.4364, -5.4422, -5.3983, -5.4766, -5.3969, -5.4134, -5.5014, -5.4377, -5.32, -5.4353, -5.5471, -5.5625, -5.5044, -5.5326, -5.5297, -5.1076, -4.7781, -4.8843, -4.8255, -5.1364, -5.2306, -5.3279, -5.0758, -5.3771, -4.4, -4.7577, -4.7856, -4.8888, -4.9473, -5.0285, -5.2251, -5.2041, -5.1705, -5.2739, -5.2924, -5.2332, -5.1882, -5.2366, -5.3653, -5.3758, -5.4277, -5.4549, -5.5018, -5.4534, -5.5251, -5.4694, -5.482, -5.59, -5.5906, -5.6052, -5.4619, -5.4996, -5.6608, -5.6558, -5.0988, -5.4672, -5.4988, -5.4862, -5.5676, -4.5424, -4.9961, -5.3538, -5.2923, -5.4041, -5.3826, -5.421, -5.4153, -5.439, -5.4413, -4.4102, -4.4601, -4.5518, -4.6738, -4.8376, -4.9426, -4.9391, -5.0091, -5.0824, -5.1197, -5.159, -5.1936, -5.2136, -5.2402, -5.3004, -5.3052, -5.3703, -5.405, -5.4036, -5.4555, -5.374, -5.4695, -5.4609, -5.4803, -5.5327, -5.4936, -5.5722, -5.5314, -5.5447, -5.5086, -5.4878, -5.5106, -5.5038, -5.5142, -4.6734, -5.2778, -4.7275, -5.1304, -5.3768, -4.1258, -4.7369, -4.7414, -4.8037, -4.8402, -4.9319, -5.0085, -5.1456, -5.2545, -5.2485, -5.3091, -5.3556, -5.3053, -5.3815, -5.3169, -5.431, -5.3845, -5.5107, -5.2615, -5.5374, -5.5331, -5.5481, -5.4954, -5.6704, -5.6733, -5.727, -5.743, -5.7637, -5.774, -5.7709, -5.395, -5.4074, -5.4436, -5.476, -5.5159, -4.8154, -5.1417, -4.9938, -4.8479, -5.0842, -5.3216, -5.4396], \"loglift\": [30.0, 29.0, 28.0, 27.0, 26.0, 25.0, 24.0, 23.0, 22.0, 21.0, 20.0, 19.0, 18.0, 17.0, 16.0, 15.0, 14.0, 13.0, 12.0, 11.0, 10.0, 9.0, 8.0, 7.0, 6.0, 5.0, 4.0, 3.0, 2.0, 1.0, 1.311, 1.3108, 1.3104, 1.3097, 1.3096, 1.3094, 1.3092, 1.3091, 1.309, 1.3089, 1.3088, 1.3085, 1.3083, 1.3081, 1.3081, 1.308, 1.3079, 1.3077, 1.3074, 1.3073, 1.3072, 1.3072, 1.3072, 1.307, 1.307, 1.307, 1.3069, 1.3068, 1.3068, 1.3065, 1.3063, 1.306, 1.3052, 1.1067, 0.9215, 0.8774, 0.6213, 0.6044, 0.7682, 0.9926, -0.0862, 1.0303, 1.3192, 1.3184, 1.3183, 1.318, 1.3178, 1.3175, 1.3167, 1.3165, 1.3165, 1.3165, 1.3162, 1.3162, 1.3162, 1.3162, 1.3159, 1.3158, 1.3155, 1.3154, 1.3152, 1.3151, 1.315, 1.3149, 1.3147, 1.3145, 1.3145, 1.3145, 1.3143, 1.3141, 1.3141, 1.314, 1.313, 1.3135, 1.3133, 1.3127, 1.3115, 0.4472, 0.6377, 0.9888, 0.8329, 1.032, 0.8826, 1.033, 0.9499, 0.9863, 0.8927, 1.4281, 1.428, 1.4276, 1.4274, 1.4268, 1.4264, 1.4263, 1.4262, 1.4258, 1.4256, 1.4254, 1.4252, 1.4251, 1.425, 1.4247, 1.4246, 1.4241, 1.4239, 1.4238, 1.4236, 1.4234, 1.4232, 1.4232, 1.4232, 1.4232, 1.423, 1.4229, 1.4229, 1.4229, 1.4229, 1.4227, 1.4227, 1.4223, 1.4208, 0.9109, 1.2444, 0.2622, 0.8579, 0.7949, 1.4892, 1.4876, 1.4876, 1.4871, 1.4871, 1.4868, 1.4863, 1.486, 1.4854, 1.4854, 1.485, 1.4848, 1.4848, 1.4846, 1.4845, 1.4844, 1.4843, 1.4837, 1.4837, 1.4835, 1.4834, 1.4833, 1.4829, 1.4825, 1.4822, 1.4818, 1.4817, 1.4815, 1.4814, 1.4813, 1.4808, 1.4808, 1.4797, 1.4783, 1.4706, 1.285, 1.3067, 1.2397, 0.7859, 1.0223, 0.2628, 0.7321]}, \"token.table\": {\"Topic\": [4, 3, 3, 1, 3, 3, 4, 1, 3, 4, 1, 4, 4, 4, 4, 3, 3, 3, 2, 4, 4, 1, 2, 3, 1, 1, 2, 1, 4, 2, 1, 1, 2, 1, 3, 2, 4, 1, 3, 4, 2, 2, 4, 4, 1, 1, 1, 2, 1, 2, 4, 2, 2, 2, 4, 2, 1, 1, 4, 1, 2, 1, 4, 2, 3, 2, 3, 1, 1, 2, 4, 1, 1, 2, 4, 1, 2, 3, 2, 1, 2, 3, 2, 4, 3, 1, 2, 3, 4, 4, 1, 4, 3, 4, 4, 3, 3, 3, 3, 4, 2, 3, 4, 3, 4, 2, 3, 1, 2, 2, 2, 3, 1, 3, 1, 2, 3, 4, 4, 1, 3, 3, 1, 2, 3, 4, 4, 2, 4, 2, 1, 2, 3, 4, 1, 2, 3, 4, 3, 2, 4, 1, 2, 2, 1, 4, 4, 2, 2, 3, 2, 2, 4, 1, 2, 3, 4, 1, 2, 3, 1, 1, 3, 3, 3, 4, 3, 2, 4, 2, 3, 2, 3, 2, 4, 1, 3, 2, 3, 1, 2, 3, 1, 1, 2, 4, 3, 2, 3, 4, 1, 3, 4, 1, 2, 1, 2, 1, 2, 2, 2, 4, 2], \"Freq\": [0.9919492320577449, 0.9929965482850934, 0.9905859039910786, 0.9981515851068079, 0.9900121762561537, 0.18261351677252277, 0.81306494372528, 0.9944532475732394, 0.997658453173586, 0.9943299883024567, 0.9972636581046637, 0.9981814592025852, 0.9904317789144137, 0.9878119281157538, 0.9932383313428395, 0.9900706965988865, 0.9945163949805079, 0.992127015449551, 0.5043844366253997, 0.4934788271848505, 0.9983328074193841, 0.756467345748368, 0.24230594668502414, 0.9985298062561164, 0.9953319903939326, 0.9913591798144412, 0.992777040144903, 0.9902402715496365, 0.9942248775778716, 0.9936982388169966, 0.991888208296587, 0.9979855097154561, 0.990297898440832, 0.43530929507960325, 0.5635700695227006, 0.21852484062563735, 0.7797363631414788, 0.9962242345544107, 0.9942363188965649, 0.991061360861772, 0.9969737502987861, 0.9945614353009152, 0.9971662285034355, 0.9972187083389173, 0.9907486014391585, 0.9928168535164412, 0.9914303825877836, 0.9963418756912976, 0.8136079103838851, 0.1851323388897463, 0.9911320864679958, 0.9958626768566697, 0.9971821445657675, 0.9878626877863637, 0.9903427857439462, 0.9929540327731172, 0.9960453359720624, 0.7260525218082643, 0.27091512007771057, 0.9941414386218828, 0.994371918699226, 0.9968185858798632, 0.9935688151407173, 0.9921970196428403, 0.9881350302299445, 0.9921339664278287, 0.9931993185611706, 0.9964961087492917, 0.3059587346154179, 0.6912401041311292, 0.993730896218748, 0.9965030110630401, 0.6756279058168929, 0.32325300666239276, 0.993733211044428, 0.9955009075209826, 0.7481096289894732, 0.24936987632982438, 0.9944199126446955, 0.3743831835576732, 0.6150580872733202, 0.008913885322801744, 0.6535142509668741, 0.3459781328648157, 0.9934696910587608, 0.9972062306468262, 0.9912942474223149, 0.9964835127804891, 0.9964048590495749, 0.991201988413961, 0.9974217720582297, 0.9903066929804679, 0.3718076672535502, 0.6255117225559726, 0.9940424359222149, 0.9968611913423268, 0.9974029106353842, 0.9980075820356888, 0.9927613761870876, 0.9899385656507044, 0.11158186689099053, 0.5942383143729496, 0.2932267664809751, 0.9935785646744028, 0.9987798414069494, 0.16572884478830396, 0.8286442239415198, 0.9910935751765619, 0.997819553900298, 0.9916586122712955, 0.7159586657482391, 0.28277359067367425, 0.9901463940343415, 0.9966406809821342, 0.4997927485371022, 0.17187442936117542, 0.12212130507241412, 0.20579701410351267, 0.9932757166942863, 0.9877211722104519, 0.9894355308487397, 0.9971697380741298, 0.010546630465167805, 0.010546630465167805, 0.010546630465167805, 0.9808366332606059, 0.9865728530866227, 0.1662450172311503, 0.8312250861557514, 0.9978442852734212, 0.6476050023436257, 0.3532390921874322, 0.988980741238109, 0.9965165857372438, 0.24626317124721792, 0.41664292344732795, 0.31069248930608306, 0.02577172722354606, 0.9921006295736514, 0.9913376926090418, 0.005936153847958334, 0.9986649673518944, 0.9971707352906906, 0.9910622244371425, 0.9936744331084836, 0.9980084737195897, 0.9932554435690394, 0.9956265734926921, 0.9935441630627321, 0.9950150027187292, 0.9961304027936057, 0.9918916141510049, 0.9886148300267527, 0.49158768675942077, 0.2640007947411704, 0.11834518384949018, 0.1274486595302202, 0.9927358849508671, 0.9939961674867548, 0.9892880081646099, 0.9939650940042719, 0.9939433453222146, 0.9946772016993911, 0.9900403761311379, 0.009557953257424628, 0.9940271387721612, 0.9915865121778327, 0.9922201004023753, 0.988942116058294, 0.9973271359384784, 0.9952596957912262, 0.9945409659316636, 0.990910051687783, 0.010210909167856186, 0.9904581892820501, 0.9980625495235843, 0.9969052453764432, 0.6459523718188069, 0.35373582266268, 0.9939340177854069, 0.9937488514269279, 0.9906487441985353, 0.9936364341938269, 0.24767967761401793, 0.7492310247824042, 0.9927304318724925, 0.9937386648462019, 0.990751502475762, 0.995307339117998, 0.9982294425725861, 0.9977904045823516, 0.5275988999794663, 0.46690168139775773, 0.5812934299580567, 0.4163317809159054, 0.9960512680820263, 0.9947921833732412, 0.28250857533208207, 0.7145805140752665, 0.9947789930486758, 0.9946989288261908, 0.9917985492094967, 0.9962917538764833], \"Term\": [\"abc\", \"accus\", \"appoint\", \"approv\", \"arm\", \"attack\", \"attack\", \"aussi\", \"australian\", \"back\", \"ban\", \"begin\", \"bid\", \"big\", \"blaze\", \"board\", \"bu\", \"busi\", \"call\", \"call\", \"car\", \"chang\", \"chang\", \"charg\", \"citi\", \"claim\", \"club\", \"coast\", \"collaps\", \"commun\", \"concern\", \"council\", \"countri\", \"court\", \"court\", \"crash\", \"crash\", \"cut\", \"day\", \"dead\", \"debat\", \"debt\", \"deni\", \"die\", \"disput\", \"doctor\", \"draw\", \"drought\", \"drug\", \"drug\", \"drum\", \"econom\", \"elect\", \"eye\", \"fail\", \"fall\", \"farmer\", \"fear\", \"fear\", \"figur\", \"final\", \"forc\", \"former\", \"found\", \"fourth\", \"friday\", \"full\", \"fund\", \"futur\", \"futur\", \"garrett\", \"govern\", \"govt\", \"govt\", \"great\", \"group\", \"health\", \"health\", \"held\", \"help\", \"help\", \"help\", \"hit\", \"hit\", \"hope\", \"hospit\", \"injuri\", \"interview\", \"iraq\", \"italian\", \"job\", \"judg\", \"kill\", \"kill\", \"labor\", \"latest\", \"lead\", \"leav\", \"line\", \"lock\", \"man\", \"man\", \"man\", \"market\", \"may\", \"melbourn\", \"melbourn\", \"men\", \"mine\", \"minist\", \"miss\", \"miss\", \"mp\", \"murder\", \"new\", \"new\", \"new\", \"new\", \"news\", \"next\", \"olymp\", \"open\", \"paint\", \"paint\", \"paint\", \"paint\", \"pakistan\", \"pay\", \"pay\", \"perth\", \"plan\", \"plan\", \"point\", \"pole\", \"polic\", \"polic\", \"polic\", \"polic\", \"pull\", \"qld\", \"qld\", \"question\", \"rate\", \"record\", \"reduc\", \"report\", \"resid\", \"review\", \"rise\", \"risk\", \"road\", \"run\", \"rural\", \"say\", \"say\", \"say\", \"say\", \"school\", \"search\", \"second\", \"seek\", \"set\", \"shoot\", \"sieg\", \"singapor\", \"singapor\", \"sold\", \"stage\", \"state\", \"station\", \"stori\", \"student\", \"success\", \"sunday\", \"sunday\", \"support\", \"sydney\", \"take\", \"take\", \"team\", \"telstra\", \"test\", \"titl\", \"trade\", \"trade\", \"train\", \"trial\", \"turnbul\", \"two\", \"union\", \"urg\", \"us\", \"us\", \"wa\", \"wa\", \"want\", \"warn\", \"water\", \"water\", \"win\", \"woman\", \"work\", \"world\"]}, \"R\": 30, \"lambda.step\": 0.01, \"plot.opts\": {\"xlab\": \"PC1\", \"ylab\": \"PC2\"}, \"topic.order\": [3, 2, 4, 1]};\n",
       "\n",
       "function LDAvis_load_lib(url, callback){\n",
       "  var s = document.createElement('script');\n",
       "  s.src = url;\n",
       "  s.async = true;\n",
       "  s.onreadystatechange = s.onload = callback;\n",
       "  s.onerror = function(){console.warn(\"failed to load library \" + url);};\n",
       "  document.getElementsByTagName(\"head\")[0].appendChild(s);\n",
       "}\n",
       "\n",
       "if(typeof(LDAvis) !== \"undefined\"){\n",
       "   // already loaded: just create the visualization\n",
       "   !function(LDAvis){\n",
       "       new LDAvis(\"#\" + \"ldavis_el1214015786137511364500568754\", ldavis_el1214015786137511364500568754_data);\n",
       "   }(LDAvis);\n",
       "}else if(typeof define === \"function\" && define.amd){\n",
       "   // require.js is available: use it to load d3/LDAvis\n",
       "   require.config({paths: {d3: \"https://d3js.org/d3.v5\"}});\n",
       "   require([\"d3\"], function(d3){\n",
       "      window.d3 = d3;\n",
       "      LDAvis_load_lib(\"https://cdn.jsdelivr.net/gh/bmabey/pyLDAvis@3.3.1/pyLDAvis/js/ldavis.v3.0.0.js\", function(){\n",
       "        new LDAvis(\"#\" + \"ldavis_el1214015786137511364500568754\", ldavis_el1214015786137511364500568754_data);\n",
       "      });\n",
       "    });\n",
       "}else{\n",
       "    // require.js not available: dynamically load d3 & LDAvis\n",
       "    LDAvis_load_lib(\"https://d3js.org/d3.v5.js\", function(){\n",
       "         LDAvis_load_lib(\"https://cdn.jsdelivr.net/gh/bmabey/pyLDAvis@3.3.1/pyLDAvis/js/ldavis.v3.0.0.js\", function(){\n",
       "                 new LDAvis(\"#\" + \"ldavis_el1214015786137511364500568754\", ldavis_el1214015786137511364500568754_data);\n",
       "            })\n",
       "         });\n",
       "}\n",
       "</script>"
      ],
      "text/plain": [
       "PreparedData(topic_coordinates=              x         y  topics  cluster       Freq\n",
       "topic                                                \n",
       "2     -0.228495 -0.028623       1        1  26.895075\n",
       "1     -0.149627 -0.010719       2        1  26.674528\n",
       "3      0.219569 -0.235701       3        1  23.918069\n",
       "0      0.158552  0.275042       4        1  22.512329, topic_info=          Term        Freq       Total Category  logprob  loglift\n",
       "1133    report  373.000000  373.000000  Default  30.0000  30.0000\n",
       "647   question  354.000000  354.000000  Default  29.0000  29.0000\n",
       "1043      mine  336.000000  336.000000  Default  28.0000  28.0000\n",
       "886     sydney  298.000000  298.000000  Default  27.0000  27.0000\n",
       "86       charg  284.000000  284.000000  Default  26.0000  26.0000\n",
       "...        ...         ...         ...      ...      ...      ...\n",
       "0        crash  156.594967  201.350107   Topic4  -4.9938   1.2397\n",
       "177       call  181.190123  366.783720   Topic4  -4.8479   0.7859\n",
       "688       kill  143.059049  228.612822   Topic4  -5.0842   1.0223\n",
       "139        man  112.826935  385.367275   Topic4  -5.3216   0.2628\n",
       "124         us  100.266351  214.177854   Topic4  -5.4396   0.7321\n",
       "\n",
       "[198 rows x 6 columns], token_table=      Topic      Freq     Term\n",
       "term                          \n",
       "496       4  0.991949      abc\n",
       "101       3  0.992997    accus\n",
       "833       3  0.990586  appoint\n",
       "68        1  0.998152   approv\n",
       "1411      3  0.990012      arm\n",
       "...     ...       ...      ...\n",
       "600       2  0.714581    water\n",
       "500       2  0.994779      win\n",
       "241       2  0.994699    woman\n",
       "279       4  0.991799     work\n",
       "151       2  0.996292    world\n",
       "\n",
       "[203 rows x 3 columns], R=30, lambda_step=0.01, plot_opts={'xlab': 'PC1', 'ylab': 'PC2'}, topic_order=[3, 2, 4, 1])"
      ]
     },
     "execution_count": 30,
     "metadata": {},
     "output_type": "execute_result"
    }
   ],
   "source": [
    "# TODO: show visualization results of the LDA\n",
    "import pyLDAvis\n",
    "import pyLDAvis.gensim_models\n",
    "\n",
    "\n",
    "pyLDAvis.enable_notebook()\n",
    "\n",
    "vis = pyLDAvis.gensim_models.prepare(lda, corpus, dictionary)\n",
    "vis"
   ]
  },
  {
   "cell_type": "markdown",
   "metadata": {},
   "source": [
    "Depending on your results, you can try to fine tune the algorithm: number of topics, hyperparameters...\n",
    "And check with others their results."
   ]
  }
 ],
 "metadata": {
  "kernelspec": {
   "display_name": "Python 3",
   "language": "python",
   "name": "python3"
  },
  "language_info": {
   "codemirror_mode": {
    "name": "ipython",
    "version": 3
   },
   "file_extension": ".py",
   "mimetype": "text/x-python",
   "name": "python",
   "nbconvert_exporter": "python",
   "pygments_lexer": "ipython3",
   "version": "3.9.12"
  },
  "toc": {
   "base_numbering": 1,
   "nav_menu": {},
   "number_sections": true,
   "sideBar": true,
   "skip_h1_title": false,
   "title_cell": "Table of Contents",
   "title_sidebar": "Contents",
   "toc_cell": false,
   "toc_position": {},
   "toc_section_display": true,
   "toc_window_display": false
  }
 },
 "nbformat": 4,
 "nbformat_minor": 2
}
