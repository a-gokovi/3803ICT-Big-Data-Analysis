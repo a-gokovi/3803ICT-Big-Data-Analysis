{
 "cells": [
  {
   "cell_type": "code",
   "execution_count": 1,
   "metadata": {},
   "outputs": [],
   "source": [
    "from sklearn import datasets\n",
    "import matplotlib.pyplot as plt \n",
    "\n",
    "#Load digits dataset\n",
    "digits = datasets.load_digits()\n"
   ]
  },
  {
   "cell_type": "code",
   "execution_count": 2,
   "metadata": {},
   "outputs": [],
   "source": [
    "#Split dataset \n",
    "\n",
    "from sklearn.model_selection import train_test_split\n",
    "import numpy as np \n",
    "\n",
    "#Create feature and target arrays \n",
    "X = digits.data\n",
    "y = digits.target\n",
    "\n",
    "#Split into training and test set \n",
    "X_train, X_test, y_train, y_test = train_test_split(X, y, test_size = 0.2)\n",
    "\n",
    "#Storing accuracy for different classifiers \n",
    "classifier_accuracies = []"
   ]
  },
  {
   "cell_type": "code",
   "execution_count": 3,
   "metadata": {},
   "outputs": [
    {
     "data": {
      "image/png": "[encoded data removed]",
      "text/plain": [
       "<Figure size 432x288 with 1 Axes>"
      ]
     },
     "metadata": {
      "needs_background": "light"
     },
     "output_type": "display_data"
    }
   ],
   "source": [
    "#kNN implementation\n",
    "from sklearn.neighbors import KNeighborsClassifier\n",
    "from sklearn.metrics import accuracy_score\n",
    "\n",
    "#List for number of neighbours\n",
    "kneighbours = [x for x in range(1,10)]\n",
    "\n",
    "#List for training and testing accuracies\n",
    "train_accuracy = []\n",
    "test_accuracy = []\n",
    "\n",
    "for i in range(len(kneighbours)):\n",
    "    #Call k nearest neighbours algorithm \n",
    "    knn = KNeighborsClassifier(n_neighbors=kneighbours[i])\n",
    "    knn.fit(X_train, y_train)\n",
    "    #Compute accuracy \n",
    "    train_accuracy.append(knn.score(X_train, y_train))\n",
    "    test_accuracy.append(knn.score(X_test, y_test))\n",
    "\n",
    "#Visualisation to k values vs accuracy \n",
    "plt.plot(kneighbours, train_accuracy, label = \"Training Accuracy\")\n",
    "plt.plot(kneighbours, test_accuracy, label = \"Testing Accuracy\")\n",
    "plt.title(\"k-NN: Varying Number of Neigbours\")\n",
    "plt.xlabel(\"Number of Neighbours\")\n",
    "plt.ylabel(\"Accuracy\")\n",
    "plt.legend()\n",
    "plt.show()\n"
   ]
  },
  {
   "cell_type": "code",
   "execution_count": 4,
   "metadata": {},
   "outputs": [
    {
     "name": "stdout",
     "output_type": "stream",
     "text": [
      "k = 3 is the best k, has high accuracy for both training and testing datasets\n"
     ]
    }
   ],
   "source": [
    "print(\"k = 3 is the best k, has high accuracy for both training and testing datasets\")\n",
    "classifier_accuracies.append(test_accuracy[2])"
   ]
  },
  {
   "cell_type": "code",
   "execution_count": 5,
   "metadata": {},
   "outputs": [
    {
     "name": "stdout",
     "output_type": "stream",
     "text": [
      "Classification report for classifier SVC using linear kernel\n",
      "              precision    recall  f1-score   support\n",
      "\n",
      "           0       1.00      1.00      1.00        33\n",
      "           1       0.93      0.97      0.95        38\n",
      "           2       0.98      1.00      0.99        42\n",
      "           3       1.00      0.98      0.99        43\n",
      "           4       0.94      0.94      0.94        36\n",
      "           5       0.97      1.00      0.98        30\n",
      "           6       1.00      1.00      1.00        34\n",
      "           7       0.97      1.00      0.99        33\n",
      "           8       0.92      0.89      0.90        37\n",
      "           9       1.00      0.91      0.95        34\n",
      "\n",
      "    accuracy                           0.97       360\n",
      "   macro avg       0.97      0.97      0.97       360\n",
      "weighted avg       0.97      0.97      0.97       360\n",
      "\n"
     ]
    }
   ],
   "source": [
    "#Support Vector Machine \n",
    "from sklearn import svm \n",
    "from sklearn.metrics import classification_report\n",
    "#Fit classifier on training data\n",
    "svclassifier = svm.SVC(kernel = 'linear')\n",
    "svclassifier.fit(X_train, y_train)\n",
    "\n",
    "#Make predictions \n",
    "print(\"Classification report for classifier SVC using linear kernel\")\n",
    "y_pred = svclassifier.predict(X_test)\n",
    "print(classification_report(y_test, y_pred))\n"
   ]
  },
  {
   "cell_type": "code",
   "execution_count": 6,
   "metadata": {},
   "outputs": [
    {
     "name": "stdout",
     "output_type": "stream",
     "text": [
      "Classification report for classifier SVC using Gaussian kernel\n",
      "              precision    recall  f1-score   support\n",
      "\n",
      "           0       1.00      1.00      1.00        33\n",
      "           1       0.95      1.00      0.97        38\n",
      "           2       1.00      1.00      1.00        42\n",
      "           3       1.00      0.98      0.99        43\n",
      "           4       1.00      1.00      1.00        36\n",
      "           5       0.97      1.00      0.98        30\n",
      "           6       1.00      1.00      1.00        34\n",
      "           7       0.97      1.00      0.99        33\n",
      "           8       0.97      0.95      0.96        37\n",
      "           9       1.00      0.94      0.97        34\n",
      "\n",
      "    accuracy                           0.99       360\n",
      "   macro avg       0.99      0.99      0.99       360\n",
      "weighted avg       0.99      0.99      0.99       360\n",
      "\n"
     ]
    }
   ],
   "source": [
    "#Using Gaussian kernel\n",
    "\n",
    "#Fit classifier on training data\n",
    "svclassifier_gaussian = svm.SVC(kernel = 'rbf')\n",
    "svclassifier_gaussian.fit(X_train, y_train)\n",
    "\n",
    "#Make predictions \n",
    "print(\"Classification report for classifier SVC using Gaussian kernel\")\n",
    "y_pred = svclassifier_gaussian.predict(X_test)\n",
    "print(classification_report(y_test, y_pred))\n",
    "\n",
    "\n",
    "classifier_accuracies.append(accuracy_score(y_test, y_pred))"
   ]
  },
  {
   "cell_type": "code",
   "execution_count": 7,
   "metadata": {},
   "outputs": [
    {
     "name": "stdout",
     "output_type": "stream",
     "text": [
      "Classification report for classifier SVC using Sigmoid kernel\n",
      "              precision    recall  f1-score   support\n",
      "\n",
      "           0       0.94      0.97      0.96        33\n",
      "           1       0.78      0.82      0.79        38\n",
      "           2       0.97      0.93      0.95        42\n",
      "           3       1.00      0.93      0.96        43\n",
      "           4       0.89      0.92      0.90        36\n",
      "           5       0.97      1.00      0.98        30\n",
      "           6       1.00      0.97      0.99        34\n",
      "           7       0.91      0.94      0.93        33\n",
      "           8       0.82      0.84      0.83        37\n",
      "           9       0.88      0.85      0.87        34\n",
      "\n",
      "    accuracy                           0.91       360\n",
      "   macro avg       0.92      0.92      0.92       360\n",
      "weighted avg       0.92      0.91      0.91       360\n",
      "\n"
     ]
    }
   ],
   "source": [
    "#Sigmoid Kernel \n",
    "\n",
    "#Fit classifier on training data\n",
    "svclassifier_sig = svm.SVC(kernel = 'sigmoid')\n",
    "svclassifier_sig.fit(X_train, y_train)\n",
    "\n",
    "#Make predictions \n",
    "print(\"Classification report for classifier SVC using Sigmoid kernel\")\n",
    "y_pred = svclassifier_sig.predict(X_test)\n",
    "print(classification_report(y_test, y_pred))\n"
   ]
  },
  {
   "cell_type": "code",
   "execution_count": 8,
   "metadata": {},
   "outputs": [
    {
     "name": "stdout",
     "output_type": "stream",
     "text": [
      "Gaussian kernel should be used with 0.99 accuracy\n"
     ]
    }
   ],
   "source": [
    "print(\"Gaussian kernel should be used with 0.99 accuracy\")"
   ]
  },
  {
   "cell_type": "code",
   "execution_count": 9,
   "metadata": {},
   "outputs": [
    {
     "name": "stdout",
     "output_type": "stream",
     "text": [
      "Accuracy: 0.8388888888888889\n"
     ]
    },
    {
     "data": {
      "image/png": "[encoded data removed]",
      "text/plain": [
       "<Figure size 432x288 with 2 Axes>"
      ]
     },
     "metadata": {
      "needs_background": "light"
     },
     "output_type": "display_data"
    }
   ],
   "source": [
    "#Naive Bays Classifier \n",
    "from sklearn.naive_bayes import GaussianNB\n",
    "from sklearn.metrics import confusion_matrix\n",
    "\n",
    "import seaborn as sns \n",
    "\n",
    "NBclassifier = GaussianNB() \n",
    "NBclassifier.fit(X_train, y_train)\n",
    "\n",
    "y_pred = NBclassifier.predict(X_test)\n",
    "\n",
    "map = sns.heatmap(confusion_matrix(y_test, y_pred), annot = True)\n",
    "map.set_xlabel(\"Predicted label\")\n",
    "map.set_ylabel(\"True Label\")\n",
    "\n",
    "print(\"Accuracy:\", NBclassifier.score(X_test, y_test))\n",
    "classifier_accuracies.append(accuracy_score(y_test, y_pred))"
   ]
  },
  {
   "cell_type": "code",
   "execution_count": 10,
   "metadata": {},
   "outputs": [
    {
     "data": {
      "text/plain": [
       "Text(0, 0.5, 'Accuracy')"
      ]
     },
     "execution_count": 10,
     "metadata": {},
     "output_type": "execute_result"
    },
    {
     "data": {
      "image/png": "[encoded data removed]",
      "text/plain": [
       "<Figure size 432x288 with 1 Axes>"
      ]
     },
     "metadata": {
      "needs_background": "light"
     },
     "output_type": "display_data"
    }
   ],
   "source": [
    "#Comparing the accuracy of different classifiers in the same plot \n",
    "\n",
    "plt.bar(['kNN Classifier', 'SVM', 'Bayes'], classifier_accuracies)\n",
    "plt.xlabel(\"Classifier\")\n",
    "plt.ylabel(\"Accuracy\")"
   ]
  },
  {
   "cell_type": "code",
   "execution_count": null,
   "metadata": {},
   "outputs": [],
   "source": []
  }
 ],
 "metadata": {
  "interpreter": {
   "hash": "f4f12040d1b257ed528d9fd8968389e63c7f2304c8b445bffaa0dae85866cf8b"
  },
  "kernelspec": {
   "display_name": "Python 3.10.0 64-bit",
   "language": "python",
   "name": "python3"
  },
  "language_info": {
   "codemirror_mode": {
    "name": "ipython",
    "version": 3
   },
   "file_extension": ".py",
   "mimetype": "text/x-python",
   "name": "python",
   "nbconvert_exporter": "python",
   "pygments_lexer": "ipython3",
   "version": "3.10.0"
  },
  "orig_nbformat": 4
 },
 "nbformat": 4,
 "nbformat_minor": 2
}
