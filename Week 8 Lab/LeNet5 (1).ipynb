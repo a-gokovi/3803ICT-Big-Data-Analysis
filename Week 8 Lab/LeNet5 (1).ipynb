{
  "cells": [
    {
      "cell_type": "markdown",
      "metadata": {
        "id": "EDbJWoO1yO8e"
      },
      "source": [
        "# Image Classification with CNN - LeNet5 architecture"
      ]
    },
    {
      "cell_type": "markdown",
      "metadata": {
        "id": "JzQxqD6HyO8i"
      },
      "source": [
        "In this exercise, we will apply the LeNet5 algorithm to the Fashion MNIST dataset and improve your performances."
      ]
    },
    {
      "cell_type": "markdown",
      "metadata": {
        "id": "XFyVotRvyO8j"
      },
      "source": [
        "We will first download the data:"
      ]
    },
    {
      "cell_type": "code",
      "execution_count": 1,
      "metadata": {
        "colab": {
          "base_uri": "https://localhost:8080/"
        },
        "id": "RTHLyL1fyO8j",
        "outputId": "fdc817d6-58c2-46a6-9df3-86766a0ea32f",
        "scrolled": true
      },
      "outputs": [
        {
          "output_type": "stream",
          "name": "stdout",
          "text": [
            "Downloading data from https://storage.googleapis.com/tensorflow/tf-keras-datasets/train-labels-idx1-ubyte.gz\n",
            "32768/29515 [=================================] - 0s 0us/step\n",
            "40960/29515 [=========================================] - 0s 0us/step\n",
            "Downloading data from https://storage.googleapis.com/tensorflow/tf-keras-datasets/train-images-idx3-ubyte.gz\n",
            "26427392/26421880 [==============================] - 0s 0us/step\n",
            "26435584/26421880 [==============================] - 0s 0us/step\n",
            "Downloading data from https://storage.googleapis.com/tensorflow/tf-keras-datasets/t10k-labels-idx1-ubyte.gz\n",
            "16384/5148 [===============================================================================================] - 0s 0us/step\n",
            "Downloading data from https://storage.googleapis.com/tensorflow/tf-keras-datasets/t10k-images-idx3-ubyte.gz\n",
            "4423680/4422102 [==============================] - 0s 0us/step\n",
            "4431872/4422102 [==============================] - 0s 0us/step\n"
          ]
        },
        {
          "output_type": "execute_result",
          "data": {
            "text/plain": [
              "(60000, 28, 28)"
            ]
          },
          "metadata": {},
          "execution_count": 1
        }
      ],
      "source": [
        "# TODO: Load the dataset\n",
        "from tensorflow.keras.datasets import fashion_mnist\n",
        "\n",
        "(X_train, y_train), (X_test, y_test) = fashion_mnist.load_data()\n",
        "\n",
        "# # # If your computer is slow, try to use a subset of data, e.g.\n",
        "# X_train = X_train[:10000]\n",
        "# y_train = y_train[:10000]\n",
        "# X_test = X_test[:2000]\n",
        "# y_test = y_test[:2000]\n",
        "X_train.shape"
      ]
    },
    {
      "cell_type": "markdown",
      "metadata": {
        "id": "c8ShXIANyO8l"
      },
      "source": [
        "As you already know, this dataset contains 10 classes:\n",
        "* 0:\tT-shirt/top\n",
        "* 1:\tTrouser\n",
        "* 2:\tPullover\n",
        "* 3:\tDress\n",
        "* 4:\tCoat\n",
        "* 5:\tSandal\n",
        "* 6:\tShirt\n",
        "* 7:\tSneaker\n",
        "* 8:\tBag\n",
        "* 9:\tAnkle boot"
      ]
    },
    {
      "cell_type": "markdown",
      "metadata": {
        "id": "_BvNG0PbyO8l"
      },
      "source": [
        "You can have a look at some images if needed, even if you already know them."
      ]
    },
    {
      "cell_type": "code",
      "execution_count": 3,
      "metadata": {
        "colab": {
          "base_uri": "https://localhost:8080/",
          "height": 281
        },
        "id": "lnjqgv-GyO8m",
        "outputId": "def201b8-45ca-46f3-eae9-7fe6a6e91b44",
        "scrolled": true
      },
      "outputs": [
        {
          "output_type": "display_data",
          "data": {
            "text/plain": [
              "<Figure size 432x288 with 1 Axes>"
            ],
            "image/png": "[encoded data removed]"
          },
          "metadata": {
            "needs_background": "light"
          }
        }
      ],
      "source": [
        "# TODO: Explore the data, display some input images\n",
        "%matplotlib inline\n",
        "import matplotlib.pyplot as plt\n",
        "import numpy as np\n",
        "\n",
        "label_class = ['top', 'trouser', 'pullover', 'dress', 'coat', 'sandal', 'shirt', 'sneaker', 'bag', 'ankle boot']\n",
        "\n",
        "idx = np.random.randint(X_train.shape[0])\n",
        "\n",
        "plt.imshow(X_train[idx], cmap = \"gray_r\")\n",
        "plt.title(label_class[y_train[idx]])\n",
        "plt.show()"
      ]
    },
    {
      "cell_type": "markdown",
      "metadata": {
        "id": "AdYH6XW1yO8n"
      },
      "source": [
        "Make the data preparation and preprocessing: scale and reshape the data, put the labels to the good shape."
      ]
    },
    {
      "cell_type": "code",
      "execution_count": 5,
      "metadata": {
        "id": "fjv8XMPByO8o",
        "colab": {
          "base_uri": "https://localhost:8080/"
        },
        "outputId": "f10ec6e9-d272-441b-dbcb-16a90a867e59"
      },
      "outputs": [
        {
          "output_type": "execute_result",
          "data": {
            "text/plain": [
              "(60000, 28, 28, 1)"
            ]
          },
          "metadata": {},
          "execution_count": 5
        }
      ],
      "source": [
        "# TODO: Make the data preparation\n",
        "from tensorflow.keras.utils import to_categorical\n",
        "\n",
        "#Number of classes = 10, 10 different clothing types\n",
        "y_train_cat = to_categorical(y_train, num_classes = 10)\n",
        "y_test_cat = to_categorical(y_test, num_classes = 10)\n",
        "\n",
        "#Currently represented from 0 to 255, want to normalize between 0 and 1\n",
        "X_train_norm = X_train/255\n",
        "X_test_norm = X_test/255\n",
        "\n",
        "#Different dimensions\n",
        "X_train_norm = X_train_norm.reshape( X_train_norm.shape[0], 28, 28, 1)\n",
        "X_test_norm = X_test_norm.reshape(X_test_norm.shape[0], 28, 28, 1)\n",
        "\n",
        "X_train_norm.shape #Should be (60000, 28, 28, 1)"
      ]
    },
    {
      "cell_type": "markdown",
      "metadata": {
        "id": "y9LKzxR9yO8o"
      },
      "source": [
        "Now build the LeNet5 architecture. You can reuse the one of the course, or try to build it by yourself.\n",
        "\n",
        "The architecture is the following:\n",
        "\n",
        "<p align=\"center\">\n",
        "<img src=\"https://drive.google.com/uc?export=view&id=1WteTU2FPIVMkBKmMxGpFm5OjsX-szTbB\">\n",
        "</p>"
      ]
    },
    {
      "cell_type": "code",
      "execution_count": 6,
      "metadata": {
        "id": "GKyMFlL6yO8o",
        "colab": {
          "base_uri": "https://localhost:8080/"
        },
        "outputId": "7dfdb0b6-9860-4486-e08e-6fbd5e3bcfa4"
      },
      "outputs": [
        {
          "output_type": "stream",
          "name": "stdout",
          "text": [
            "Model: \"sequential\"\n",
            "_________________________________________________________________\n",
            " Layer (type)                Output Shape              Param #   \n",
            "=================================================================\n",
            " C1 (Conv2D)                 (None, 26, 26, 6)         60        \n",
            "                                                                 \n",
            " S2 (MaxPooling2D)           (None, 13, 13, 6)         0         \n",
            "                                                                 \n",
            " C3 (Conv2D)                 (None, 11, 11, 16)        880       \n",
            "                                                                 \n",
            " S4 (MaxPooling2D)           (None, 5, 5, 16)          0         \n",
            "                                                                 \n",
            " flatten (Flatten)           (None, 400)               0         \n",
            "                                                                 \n",
            " C5 (Dense)                  (None, 120)               48120     \n",
            "                                                                 \n",
            " F6 (Dense)                  (None, 84)                10164     \n",
            "                                                                 \n",
            " dense (Dense)               (None, 10)                850       \n",
            "                                                                 \n",
            "=================================================================\n",
            "Total params: 60,074\n",
            "Trainable params: 60,074\n",
            "Non-trainable params: 0\n",
            "_________________________________________________________________\n"
          ]
        }
      ],
      "source": [
        "# TODO: Build your model\n",
        "from tensorflow.keras.models import Sequential\n",
        "from tensorflow.keras.layers import MaxPooling2D, Conv2D, Flatten, Dense\n",
        "\n",
        "\n",
        "def lenet5():\n",
        "    \n",
        "    model = Sequential()\n",
        "\n",
        "    # Layer C1, 6 filters\n",
        "    model.add(Conv2D(filters=6, name='C1', kernel_size=(3, 3), activation='relu', input_shape=(28,28,1)))\n",
        "    # Layer S2\n",
        "    model.add(MaxPooling2D(pool_size=(2, 2), name='S2'))\n",
        "    # Layer C3\n",
        "    model.add(Conv2D(filters=16, name='C3', kernel_size=(3, 3), activation='relu'))\n",
        "    # Layer S4\n",
        "    model.add(MaxPooling2D(pool_size=(2, 2), name='S4'))\n",
        "    # Before going into layer C5, we flatten our units\n",
        "    model.add(Flatten())\n",
        "    # Layer C5\n",
        "    model.add(Dense(120, activation = 'relu', name = 'C5'))\n",
        "    # Layer F6\n",
        "    model.add(Dense(84, activation = 'relu', name = 'F6'))\n",
        "    # Output layer\n",
        "    model.add(Dense(units=10, activation = 'softmax'))\n",
        "    \n",
        "    return model\n",
        "\n",
        "lenet5().summary()"
      ]
    },
    {
      "cell_type": "markdown",
      "metadata": {
        "id": "i1qBEauqyO8p"
      },
      "source": [
        "Now compile and fit your model on your training data. Since this is a multiclass classification, the loss is not `binary_crossentropy` anymore, but `categorical_crossentropy`."
      ]
    },
    {
      "cell_type": "code",
      "execution_count": 7,
      "metadata": {
        "colab": {
          "base_uri": "https://localhost:8080/"
        },
        "id": "nPL3aKnyyO8p",
        "outputId": "49b27b2b-3417-49e3-ca92-865593fe9f3d",
        "scrolled": true
      },
      "outputs": [
        {
          "output_type": "stream",
          "name": "stdout",
          "text": [
            "Epoch 1/100\n",
            "30/30 [==============================] - 10s 25ms/step - loss: 1.6826 - accuracy: 0.4965 - val_loss: 0.9308 - val_accuracy: 0.6641\n",
            "Epoch 2/100\n",
            "30/30 [==============================] - 0s 13ms/step - loss: 0.7672 - accuracy: 0.7157 - val_loss: 0.6836 - val_accuracy: 0.7441\n",
            "Epoch 3/100\n",
            "30/30 [==============================] - 0s 14ms/step - loss: 0.6186 - accuracy: 0.7649 - val_loss: 0.6060 - val_accuracy: 0.7736\n",
            "Epoch 4/100\n",
            "30/30 [==============================] - 0s 13ms/step - loss: 0.5589 - accuracy: 0.7904 - val_loss: 0.5539 - val_accuracy: 0.7911\n",
            "Epoch 5/100\n",
            "30/30 [==============================] - 0s 14ms/step - loss: 0.5148 - accuracy: 0.8087 - val_loss: 0.5369 - val_accuracy: 0.7929\n",
            "Epoch 6/100\n",
            "30/30 [==============================] - 0s 14ms/step - loss: 0.4896 - accuracy: 0.8185 - val_loss: 0.5003 - val_accuracy: 0.8183\n",
            "Epoch 7/100\n",
            "30/30 [==============================] - 0s 13ms/step - loss: 0.4625 - accuracy: 0.8328 - val_loss: 0.4811 - val_accuracy: 0.8243\n",
            "Epoch 8/100\n",
            "30/30 [==============================] - 0s 13ms/step - loss: 0.4492 - accuracy: 0.8363 - val_loss: 0.4692 - val_accuracy: 0.8264\n",
            "Epoch 9/100\n",
            "30/30 [==============================] - 0s 13ms/step - loss: 0.4345 - accuracy: 0.8419 - val_loss: 0.4520 - val_accuracy: 0.8331\n",
            "Epoch 10/100\n",
            "30/30 [==============================] - 0s 14ms/step - loss: 0.4206 - accuracy: 0.8478 - val_loss: 0.4421 - val_accuracy: 0.8388\n",
            "Epoch 11/100\n",
            "30/30 [==============================] - 0s 14ms/step - loss: 0.4080 - accuracy: 0.8533 - val_loss: 0.4364 - val_accuracy: 0.8417\n",
            "Epoch 12/100\n",
            "30/30 [==============================] - 0s 13ms/step - loss: 0.4000 - accuracy: 0.8562 - val_loss: 0.4238 - val_accuracy: 0.8451\n",
            "Epoch 13/100\n",
            "30/30 [==============================] - 0s 14ms/step - loss: 0.3912 - accuracy: 0.8600 - val_loss: 0.4168 - val_accuracy: 0.8471\n",
            "Epoch 14/100\n",
            "30/30 [==============================] - 0s 14ms/step - loss: 0.3860 - accuracy: 0.8608 - val_loss: 0.4095 - val_accuracy: 0.8516\n",
            "Epoch 15/100\n",
            "30/30 [==============================] - 0s 14ms/step - loss: 0.3758 - accuracy: 0.8649 - val_loss: 0.4037 - val_accuracy: 0.8549\n",
            "Epoch 16/100\n",
            "30/30 [==============================] - 0s 14ms/step - loss: 0.3716 - accuracy: 0.8665 - val_loss: 0.3992 - val_accuracy: 0.8547\n",
            "Epoch 17/100\n",
            "30/30 [==============================] - 0s 14ms/step - loss: 0.3658 - accuracy: 0.8676 - val_loss: 0.3986 - val_accuracy: 0.8538\n",
            "Epoch 18/100\n",
            "30/30 [==============================] - 0s 14ms/step - loss: 0.3656 - accuracy: 0.8685 - val_loss: 0.3994 - val_accuracy: 0.8568\n",
            "Epoch 19/100\n",
            "30/30 [==============================] - 0s 13ms/step - loss: 0.3624 - accuracy: 0.8691 - val_loss: 0.3932 - val_accuracy: 0.8571\n",
            "Epoch 20/100\n",
            "30/30 [==============================] - 0s 14ms/step - loss: 0.3520 - accuracy: 0.8727 - val_loss: 0.3875 - val_accuracy: 0.8603\n",
            "Epoch 21/100\n",
            "30/30 [==============================] - 0s 14ms/step - loss: 0.3492 - accuracy: 0.8727 - val_loss: 0.3779 - val_accuracy: 0.8631\n",
            "Epoch 22/100\n",
            "30/30 [==============================] - 0s 14ms/step - loss: 0.3431 - accuracy: 0.8761 - val_loss: 0.3746 - val_accuracy: 0.8658\n",
            "Epoch 23/100\n",
            "30/30 [==============================] - 0s 14ms/step - loss: 0.3398 - accuracy: 0.8772 - val_loss: 0.3718 - val_accuracy: 0.8665\n",
            "Epoch 24/100\n",
            "30/30 [==============================] - 0s 13ms/step - loss: 0.3327 - accuracy: 0.8804 - val_loss: 0.3759 - val_accuracy: 0.8615\n",
            "Epoch 25/100\n",
            "30/30 [==============================] - 0s 14ms/step - loss: 0.3343 - accuracy: 0.8774 - val_loss: 0.3705 - val_accuracy: 0.8643\n",
            "Epoch 26/100\n",
            "30/30 [==============================] - 0s 13ms/step - loss: 0.3277 - accuracy: 0.8815 - val_loss: 0.3605 - val_accuracy: 0.8709\n",
            "Epoch 27/100\n",
            "30/30 [==============================] - 0s 14ms/step - loss: 0.3240 - accuracy: 0.8826 - val_loss: 0.3776 - val_accuracy: 0.8635\n",
            "Epoch 28/100\n",
            "30/30 [==============================] - 0s 14ms/step - loss: 0.3229 - accuracy: 0.8825 - val_loss: 0.3601 - val_accuracy: 0.8713\n",
            "Epoch 29/100\n",
            "30/30 [==============================] - 0s 13ms/step - loss: 0.3160 - accuracy: 0.8859 - val_loss: 0.3546 - val_accuracy: 0.8729\n",
            "Epoch 30/100\n",
            "30/30 [==============================] - 0s 14ms/step - loss: 0.3166 - accuracy: 0.8840 - val_loss: 0.3732 - val_accuracy: 0.8667\n",
            "Epoch 31/100\n",
            "30/30 [==============================] - 0s 13ms/step - loss: 0.3149 - accuracy: 0.8846 - val_loss: 0.3529 - val_accuracy: 0.8740\n",
            "Epoch 32/100\n",
            "30/30 [==============================] - 0s 15ms/step - loss: 0.3083 - accuracy: 0.8878 - val_loss: 0.3470 - val_accuracy: 0.8766\n",
            "Epoch 33/100\n",
            "30/30 [==============================] - 0s 13ms/step - loss: 0.3055 - accuracy: 0.8891 - val_loss: 0.3525 - val_accuracy: 0.8736\n",
            "Epoch 34/100\n",
            "30/30 [==============================] - 0s 14ms/step - loss: 0.3055 - accuracy: 0.8885 - val_loss: 0.3471 - val_accuracy: 0.8762\n",
            "Epoch 35/100\n",
            "30/30 [==============================] - 0s 13ms/step - loss: 0.3008 - accuracy: 0.8904 - val_loss: 0.3436 - val_accuracy: 0.8764\n",
            "Epoch 36/100\n",
            "30/30 [==============================] - 0s 14ms/step - loss: 0.2972 - accuracy: 0.8927 - val_loss: 0.3394 - val_accuracy: 0.8781\n",
            "Epoch 37/100\n",
            "30/30 [==============================] - 0s 14ms/step - loss: 0.2969 - accuracy: 0.8918 - val_loss: 0.3457 - val_accuracy: 0.8760\n",
            "Epoch 38/100\n",
            "30/30 [==============================] - 0s 13ms/step - loss: 0.2935 - accuracy: 0.8925 - val_loss: 0.3361 - val_accuracy: 0.8795\n",
            "Epoch 39/100\n",
            "30/30 [==============================] - 0s 14ms/step - loss: 0.2926 - accuracy: 0.8932 - val_loss: 0.3510 - val_accuracy: 0.8755\n",
            "Epoch 40/100\n",
            "30/30 [==============================] - 0s 16ms/step - loss: 0.2918 - accuracy: 0.8925 - val_loss: 0.3383 - val_accuracy: 0.8782\n",
            "Epoch 41/100\n",
            "30/30 [==============================] - 1s 18ms/step - loss: 0.2871 - accuracy: 0.8953 - val_loss: 0.3357 - val_accuracy: 0.8790\n",
            "Epoch 42/100\n",
            "30/30 [==============================] - 1s 22ms/step - loss: 0.2871 - accuracy: 0.8949 - val_loss: 0.3359 - val_accuracy: 0.8809\n",
            "Epoch 43/100\n",
            "30/30 [==============================] - 1s 19ms/step - loss: 0.2832 - accuracy: 0.8968 - val_loss: 0.3335 - val_accuracy: 0.8825\n",
            "Epoch 44/100\n",
            "30/30 [==============================] - 1s 19ms/step - loss: 0.2830 - accuracy: 0.8954 - val_loss: 0.3330 - val_accuracy: 0.8802\n",
            "Epoch 45/100\n",
            "30/30 [==============================] - 1s 22ms/step - loss: 0.2796 - accuracy: 0.8975 - val_loss: 0.3320 - val_accuracy: 0.8833\n",
            "Epoch 46/100\n",
            "30/30 [==============================] - 1s 18ms/step - loss: 0.2803 - accuracy: 0.8976 - val_loss: 0.3285 - val_accuracy: 0.8837\n",
            "Epoch 47/100\n",
            "30/30 [==============================] - 0s 14ms/step - loss: 0.2760 - accuracy: 0.8989 - val_loss: 0.3243 - val_accuracy: 0.8864\n",
            "Epoch 48/100\n",
            "30/30 [==============================] - 0s 13ms/step - loss: 0.2723 - accuracy: 0.9011 - val_loss: 0.3309 - val_accuracy: 0.8803\n",
            "Epoch 49/100\n",
            "30/30 [==============================] - 0s 14ms/step - loss: 0.2705 - accuracy: 0.9013 - val_loss: 0.3234 - val_accuracy: 0.8862\n",
            "Epoch 50/100\n",
            "30/30 [==============================] - 0s 14ms/step - loss: 0.2705 - accuracy: 0.9013 - val_loss: 0.3293 - val_accuracy: 0.8841\n",
            "Epoch 51/100\n",
            "30/30 [==============================] - 0s 14ms/step - loss: 0.2674 - accuracy: 0.9016 - val_loss: 0.3353 - val_accuracy: 0.8768\n",
            "Epoch 52/100\n",
            "30/30 [==============================] - 1s 17ms/step - loss: 0.2685 - accuracy: 0.9009 - val_loss: 0.3361 - val_accuracy: 0.8792\n",
            "Epoch 53/100\n",
            "30/30 [==============================] - 0s 17ms/step - loss: 0.2668 - accuracy: 0.9015 - val_loss: 0.3225 - val_accuracy: 0.8850\n",
            "Epoch 54/100\n",
            "30/30 [==============================] - 0s 16ms/step - loss: 0.2642 - accuracy: 0.9025 - val_loss: 0.3387 - val_accuracy: 0.8779\n",
            "Epoch 55/100\n",
            "30/30 [==============================] - 1s 20ms/step - loss: 0.2641 - accuracy: 0.9028 - val_loss: 0.3273 - val_accuracy: 0.8815\n",
            "Epoch 56/100\n",
            "30/30 [==============================] - 1s 17ms/step - loss: 0.2593 - accuracy: 0.9040 - val_loss: 0.3213 - val_accuracy: 0.8847\n",
            "Epoch 57/100\n",
            "30/30 [==============================] - 0s 14ms/step - loss: 0.2590 - accuracy: 0.9051 - val_loss: 0.3142 - val_accuracy: 0.8887\n",
            "Epoch 58/100\n",
            "30/30 [==============================] - 1s 17ms/step - loss: 0.2547 - accuracy: 0.9057 - val_loss: 0.3202 - val_accuracy: 0.8874\n",
            "Epoch 59/100\n",
            "30/30 [==============================] - 1s 20ms/step - loss: 0.2544 - accuracy: 0.9068 - val_loss: 0.3191 - val_accuracy: 0.8852\n",
            "Epoch 60/100\n",
            "30/30 [==============================] - 1s 24ms/step - loss: 0.2543 - accuracy: 0.9068 - val_loss: 0.3232 - val_accuracy: 0.8828\n",
            "Epoch 61/100\n",
            "30/30 [==============================] - 1s 19ms/step - loss: 0.2551 - accuracy: 0.9053 - val_loss: 0.3205 - val_accuracy: 0.8864\n",
            "Epoch 62/100\n",
            "30/30 [==============================] - 1s 20ms/step - loss: 0.2549 - accuracy: 0.9054 - val_loss: 0.3201 - val_accuracy: 0.8864\n",
            "Epoch 63/100\n",
            "30/30 [==============================] - 1s 18ms/step - loss: 0.2516 - accuracy: 0.9076 - val_loss: 0.3195 - val_accuracy: 0.8843\n",
            "Epoch 64/100\n",
            "30/30 [==============================] - 1s 21ms/step - loss: 0.2522 - accuracy: 0.9065 - val_loss: 0.3164 - val_accuracy: 0.8867\n",
            "Epoch 65/100\n",
            "30/30 [==============================] - 1s 17ms/step - loss: 0.2463 - accuracy: 0.9096 - val_loss: 0.3161 - val_accuracy: 0.8876\n",
            "Epoch 66/100\n",
            "30/30 [==============================] - 0s 13ms/step - loss: 0.2513 - accuracy: 0.9077 - val_loss: 0.3114 - val_accuracy: 0.8888\n",
            "Epoch 67/100\n",
            "30/30 [==============================] - 0s 15ms/step - loss: 0.2433 - accuracy: 0.9103 - val_loss: 0.3171 - val_accuracy: 0.8881\n",
            "Epoch 68/100\n",
            "30/30 [==============================] - 1s 19ms/step - loss: 0.2420 - accuracy: 0.9112 - val_loss: 0.3156 - val_accuracy: 0.8881\n",
            "Epoch 69/100\n",
            "30/30 [==============================] - 0s 16ms/step - loss: 0.2434 - accuracy: 0.9102 - val_loss: 0.3240 - val_accuracy: 0.8841\n",
            "Epoch 70/100\n",
            "30/30 [==============================] - 0s 14ms/step - loss: 0.2449 - accuracy: 0.9090 - val_loss: 0.3201 - val_accuracy: 0.8860\n",
            "Epoch 71/100\n",
            "30/30 [==============================] - 0s 13ms/step - loss: 0.2452 - accuracy: 0.9089 - val_loss: 0.3140 - val_accuracy: 0.8888\n",
            "Epoch 72/100\n",
            "30/30 [==============================] - 0s 13ms/step - loss: 0.2422 - accuracy: 0.9107 - val_loss: 0.3134 - val_accuracy: 0.8902\n",
            "Epoch 73/100\n",
            "30/30 [==============================] - 0s 14ms/step - loss: 0.2355 - accuracy: 0.9143 - val_loss: 0.3131 - val_accuracy: 0.8880\n",
            "Epoch 74/100\n",
            "30/30 [==============================] - 0s 14ms/step - loss: 0.2333 - accuracy: 0.9138 - val_loss: 0.3128 - val_accuracy: 0.8892\n",
            "Epoch 75/100\n",
            "30/30 [==============================] - 0s 14ms/step - loss: 0.2330 - accuracy: 0.9145 - val_loss: 0.3078 - val_accuracy: 0.8908\n",
            "Epoch 76/100\n",
            "30/30 [==============================] - 0s 14ms/step - loss: 0.2336 - accuracy: 0.9139 - val_loss: 0.3191 - val_accuracy: 0.8847\n",
            "Epoch 77/100\n",
            "30/30 [==============================] - 0s 14ms/step - loss: 0.2331 - accuracy: 0.9143 - val_loss: 0.3091 - val_accuracy: 0.8900\n",
            "Epoch 78/100\n",
            "30/30 [==============================] - 1s 17ms/step - loss: 0.2299 - accuracy: 0.9160 - val_loss: 0.3086 - val_accuracy: 0.8900\n",
            "Epoch 79/100\n",
            "30/30 [==============================] - 1s 20ms/step - loss: 0.2265 - accuracy: 0.9166 - val_loss: 0.3093 - val_accuracy: 0.8895\n",
            "Epoch 80/100\n",
            "30/30 [==============================] - 1s 19ms/step - loss: 0.2283 - accuracy: 0.9165 - val_loss: 0.3089 - val_accuracy: 0.8897\n",
            "Epoch 81/100\n",
            "30/30 [==============================] - 1s 18ms/step - loss: 0.2270 - accuracy: 0.9163 - val_loss: 0.3134 - val_accuracy: 0.8898\n",
            "Epoch 82/100\n",
            "30/30 [==============================] - 1s 20ms/step - loss: 0.2247 - accuracy: 0.9165 - val_loss: 0.3187 - val_accuracy: 0.8890\n",
            "Epoch 83/100\n",
            "30/30 [==============================] - 1s 18ms/step - loss: 0.2264 - accuracy: 0.9166 - val_loss: 0.3168 - val_accuracy: 0.8877\n",
            "Epoch 84/100\n",
            "30/30 [==============================] - 1s 18ms/step - loss: 0.2268 - accuracy: 0.9164 - val_loss: 0.3284 - val_accuracy: 0.8827\n",
            "Epoch 85/100\n",
            "30/30 [==============================] - 1s 18ms/step - loss: 0.2210 - accuracy: 0.9183 - val_loss: 0.3141 - val_accuracy: 0.8889\n"
          ]
        },
        {
          "output_type": "execute_result",
          "data": {
            "text/plain": [
              "<keras.callbacks.History at 0x7ff5bbf86f50>"
            ]
          },
          "metadata": {},
          "execution_count": 7
        }
      ],
      "source": [
        "# TODO: Compile and fit your model\n",
        "import os\n",
        "\n",
        "# os.environ['KMP_DUPLICATE_LIB_OK']='True' #https://stackoverflow.com/questions/53014306/error-15-initializing-libiomp5-dylib-but-found-libiomp5-dylib-already-initial\n",
        "\n",
        "\n",
        "from tensorflow.keras.callbacks import EarlyStopping\n",
        "from tensorflow.keras.callbacks import TensorBoard\n",
        "\n",
        "model = lenet5()\n",
        "\n",
        "model.compile(optimizer='adam', loss='categorical_crossentropy', metrics=['accuracy'])\n",
        "\n",
        "# Define now our callbacks\n",
        "# callbacks = [EarlyStopping(monitor='val_loss', patience=10), TensorBoard(log_dir='./keras-logs', histogram_freq=0, write_graph=True, write_images=True)]\n",
        "callbacks = [EarlyStopping(monitor='val_loss', patience=10)]\n",
        "\n",
        "# Finally fit the model\n",
        "model.fit(x=X_train_norm, y=y_train_cat, validation_data=(X_test_norm, y_test_cat), epochs=100, batch_size=2048, callbacks=callbacks)"
      ]
    },
    {
      "cell_type": "markdown",
      "metadata": {
        "id": "Rf-SqjjOyO8q"
      },
      "source": [
        "Have a look at the tensorboard and see if it gives a deeper understanding of your model."
      ]
    },
    {
      "cell_type": "markdown",
      "metadata": {
        "id": "k2FTj7TSyO8q"
      },
      "source": [
        "Compute then the accuracy of your model. Is it better than a regular MLP used before?"
      ]
    },
    {
      "cell_type": "code",
      "execution_count": 8,
      "metadata": {
        "colab": {
          "base_uri": "https://localhost:8080/"
        },
        "id": "rPjJoMQZyO8q",
        "outputId": "b288991c-6606-4013-9e0d-8a722253cd2b"
      },
      "outputs": [
        {
          "output_type": "stream",
          "name": "stdout",
          "text": [
            "accuracy on train with CNN: 0.9186166666666666\n",
            "accuracy on test with CNN: 0.8889\n"
          ]
        }
      ],
      "source": [
        "# TODO: Compute the accuracy of your model\n",
        "from sklearn.metrics import accuracy_score\n",
        "\n",
        "batch_size = 1024\n",
        "y_pred_train = to_categorical(model.predict(X_train_norm, batch_size = batch_size).argmax(axis=1), num_classes=10)\n",
        "y_pred_test = to_categorical(model.predict(X_test_norm, batch_size = batch_size).argmax(axis=1), num_classes=10)\n",
        "\n",
        "print('accuracy on train with CNN:', accuracy_score(y_pred_train, y_train_cat))\n",
        "print('accuracy on test with CNN:', accuracy_score(y_pred_test, y_test_cat))"
      ]
    },
    {
      "cell_type": "markdown",
      "metadata": {
        "id": "1vulsgHiyO8q"
      },
      "source": [
        "We will now add image augmentation to improve our results, especially we will try to reduce overfitting this way.\n",
        "\n",
        "To do so, you can use `ImageDataGenerator` from Keras that makes all the work for you (including rescaling), with the following parameter: \n",
        "* `horizontal_flip=True`\n",
        "\n",
        "For more info about how the `ImageDataGenerator` works, you can check out [this article](https://www.pyimagesearch.com/2019/07/08/keras-imagedatagenerator-and-data-augmentation/).\n",
        "\n",
        "Begin by creating an object `ImageDataGenerator` with this parameter."
      ]
    },
    {
      "cell_type": "code",
      "execution_count": 9,
      "metadata": {
        "ExecuteTime": {
          "end_time": "2020-08-19T11:58:37.442182Z",
          "start_time": "2020-08-19T11:58:37.438397Z"
        },
        "id": "pas-fMSIyO8q"
      },
      "outputs": [],
      "source": [
        "# TODO: Instantiate an ImageDataGenerator object\n",
        "from tensorflow.keras.preprocessing.image import ImageDataGenerator\n",
        "\n",
        "datagen = ImageDataGenerator(horizontal_flip=True)#Help prevent overfitting and increase accuracy of model"
      ]
    },
    {
      "cell_type": "markdown",
      "metadata": {
        "id": "k7nCnu9syO8r"
      },
      "source": [
        "Finally, you can train your model using this generator, with the method `fit_generator` of your model and the method `flow` of your `ImageDataGenerator`."
      ]
    },
    {
      "cell_type": "code",
      "execution_count": 10,
      "metadata": {
        "colab": {
          "base_uri": "https://localhost:8080/"
        },
        "id": "Zt6wXa3IyO8r",
        "outputId": "80b6d3db-e1bd-49c9-fb61-ac41e1eab88f",
        "scrolled": true
      },
      "outputs": [
        {
          "output_type": "stream",
          "name": "stdout",
          "text": [
            "Epoch 1/100\n"
          ]
        },
        {
          "output_type": "stream",
          "name": "stderr",
          "text": [
            "/usr/local/lib/python3.7/dist-packages/ipykernel_launcher.py:5: UserWarning: `Model.fit_generator` is deprecated and will be removed in a future version. Please use `Model.fit`, which supports generators.\n",
            "  \"\"\"\n"
          ]
        },
        {
          "output_type": "stream",
          "name": "stdout",
          "text": [
            "58/58 [==============================] - 2s 31ms/step - loss: 0.4381 - accuracy: 0.8598 - val_loss: 0.3252 - val_accuracy: 0.8848\n",
            "Epoch 2/100\n",
            "58/58 [==============================] - 2s 42ms/step - loss: 0.2972 - accuracy: 0.8921 - val_loss: 0.3185 - val_accuracy: 0.8844\n",
            "Epoch 3/100\n",
            "58/58 [==============================] - 2s 31ms/step - loss: 0.2819 - accuracy: 0.8979 - val_loss: 0.3118 - val_accuracy: 0.8875\n",
            "Epoch 4/100\n",
            "58/58 [==============================] - 2s 41ms/step - loss: 0.2804 - accuracy: 0.8984 - val_loss: 0.3063 - val_accuracy: 0.8905\n",
            "Epoch 5/100\n",
            "58/58 [==============================] - 2s 42ms/step - loss: 0.2722 - accuracy: 0.9007 - val_loss: 0.3089 - val_accuracy: 0.8904\n",
            "Epoch 6/100\n",
            "58/58 [==============================] - 2s 31ms/step - loss: 0.2667 - accuracy: 0.9022 - val_loss: 0.3090 - val_accuracy: 0.8897\n",
            "Epoch 7/100\n",
            "58/58 [==============================] - 2s 30ms/step - loss: 0.2628 - accuracy: 0.9039 - val_loss: 0.3026 - val_accuracy: 0.8928\n",
            "Epoch 8/100\n",
            "58/58 [==============================] - 2s 30ms/step - loss: 0.2581 - accuracy: 0.9054 - val_loss: 0.3059 - val_accuracy: 0.8901\n",
            "Epoch 9/100\n",
            "58/58 [==============================] - 2s 30ms/step - loss: 0.2557 - accuracy: 0.9062 - val_loss: 0.3023 - val_accuracy: 0.8930\n",
            "Epoch 10/100\n",
            "58/58 [==============================] - 2s 31ms/step - loss: 0.2524 - accuracy: 0.9083 - val_loss: 0.3016 - val_accuracy: 0.8913\n",
            "Epoch 11/100\n",
            "58/58 [==============================] - 2s 31ms/step - loss: 0.2487 - accuracy: 0.9088 - val_loss: 0.2981 - val_accuracy: 0.8927\n",
            "Epoch 12/100\n",
            "58/58 [==============================] - 2s 30ms/step - loss: 0.2498 - accuracy: 0.9088 - val_loss: 0.3004 - val_accuracy: 0.8922\n",
            "Epoch 13/100\n",
            "58/58 [==============================] - 2s 41ms/step - loss: 0.2442 - accuracy: 0.9104 - val_loss: 0.2992 - val_accuracy: 0.8939\n",
            "Epoch 14/100\n",
            "58/58 [==============================] - 2s 30ms/step - loss: 0.2418 - accuracy: 0.9117 - val_loss: 0.2976 - val_accuracy: 0.8947\n",
            "Epoch 15/100\n",
            "58/58 [==============================] - 2s 31ms/step - loss: 0.2399 - accuracy: 0.9116 - val_loss: 0.2910 - val_accuracy: 0.8971\n",
            "Epoch 16/100\n",
            "58/58 [==============================] - 2s 42ms/step - loss: 0.2375 - accuracy: 0.9129 - val_loss: 0.2939 - val_accuracy: 0.8961\n",
            "Epoch 17/100\n",
            "58/58 [==============================] - 2s 30ms/step - loss: 0.2354 - accuracy: 0.9134 - val_loss: 0.2934 - val_accuracy: 0.8966\n",
            "Epoch 18/100\n",
            "58/58 [==============================] - 2s 30ms/step - loss: 0.2361 - accuracy: 0.9135 - val_loss: 0.3123 - val_accuracy: 0.8887\n",
            "Epoch 19/100\n",
            "58/58 [==============================] - 2s 30ms/step - loss: 0.2382 - accuracy: 0.9118 - val_loss: 0.2986 - val_accuracy: 0.8946\n",
            "Epoch 20/100\n",
            "58/58 [==============================] - 2s 30ms/step - loss: 0.2305 - accuracy: 0.9159 - val_loss: 0.2914 - val_accuracy: 0.8969\n",
            "Epoch 21/100\n",
            "58/58 [==============================] - 2s 30ms/step - loss: 0.2297 - accuracy: 0.9151 - val_loss: 0.2948 - val_accuracy: 0.8950\n",
            "Epoch 22/100\n",
            "58/58 [==============================] - 2s 42ms/step - loss: 0.2277 - accuracy: 0.9168 - val_loss: 0.2981 - val_accuracy: 0.8940\n",
            "Epoch 23/100\n",
            "58/58 [==============================] - 2s 37ms/step - loss: 0.2278 - accuracy: 0.9153 - val_loss: 0.3001 - val_accuracy: 0.8924\n",
            "Epoch 24/100\n",
            "58/58 [==============================] - 2s 41ms/step - loss: 0.2287 - accuracy: 0.9162 - val_loss: 0.2904 - val_accuracy: 0.8986\n",
            "Epoch 25/100\n",
            "58/58 [==============================] - 2s 42ms/step - loss: 0.2210 - accuracy: 0.9190 - val_loss: 0.2919 - val_accuracy: 0.8965\n",
            "Epoch 26/100\n",
            "58/58 [==============================] - 2s 42ms/step - loss: 0.2283 - accuracy: 0.9153 - val_loss: 0.3081 - val_accuracy: 0.8936\n",
            "Epoch 27/100\n",
            "58/58 [==============================] - 2s 30ms/step - loss: 0.2190 - accuracy: 0.9199 - val_loss: 0.2842 - val_accuracy: 0.9003\n",
            "Epoch 28/100\n",
            "58/58 [==============================] - 2s 30ms/step - loss: 0.2150 - accuracy: 0.9212 - val_loss: 0.2924 - val_accuracy: 0.8973\n",
            "Epoch 29/100\n",
            "58/58 [==============================] - 2s 30ms/step - loss: 0.2158 - accuracy: 0.9206 - val_loss: 0.2981 - val_accuracy: 0.8951\n",
            "Epoch 30/100\n",
            "58/58 [==============================] - 2s 30ms/step - loss: 0.2166 - accuracy: 0.9202 - val_loss: 0.2941 - val_accuracy: 0.8969\n",
            "Epoch 31/100\n",
            "58/58 [==============================] - 2s 42ms/step - loss: 0.2146 - accuracy: 0.9203 - val_loss: 0.2994 - val_accuracy: 0.8949\n",
            "Epoch 32/100\n",
            "58/58 [==============================] - 2s 32ms/step - loss: 0.2143 - accuracy: 0.9210 - val_loss: 0.2912 - val_accuracy: 0.8988\n",
            "Epoch 33/100\n",
            "58/58 [==============================] - 3s 47ms/step - loss: 0.2116 - accuracy: 0.9216 - val_loss: 0.2917 - val_accuracy: 0.8983\n",
            "Epoch 34/100\n",
            "58/58 [==============================] - 3s 47ms/step - loss: 0.2125 - accuracy: 0.9212 - val_loss: 0.2910 - val_accuracy: 0.8975\n",
            "Epoch 35/100\n",
            "58/58 [==============================] - 2s 30ms/step - loss: 0.2089 - accuracy: 0.9230 - val_loss: 0.3000 - val_accuracy: 0.8943\n",
            "Epoch 36/100\n",
            "58/58 [==============================] - 2s 42ms/step - loss: 0.2058 - accuracy: 0.9240 - val_loss: 0.2858 - val_accuracy: 0.8998\n",
            "Epoch 37/100\n",
            "58/58 [==============================] - 2s 30ms/step - loss: 0.2022 - accuracy: 0.9265 - val_loss: 0.2892 - val_accuracy: 0.8991\n"
          ]
        },
        {
          "output_type": "execute_result",
          "data": {
            "text/plain": [
              "<keras.callbacks.History at 0x7ff53e3171d0>"
            ]
          },
          "metadata": {},
          "execution_count": 10
        }
      ],
      "source": [
        "# TODO: train your model\n",
        "batch_size = 1024\n",
        "model.fit_generator(datagen.flow(X_train_norm, y_train_cat, batch_size=batch_size),\n",
        "                    validation_data=(X_test_norm, y_test_cat), callbacks=callbacks,\n",
        "                    steps_per_epoch=len(X_train_norm) / batch_size, epochs=100)"
      ]
    },
    {
      "cell_type": "markdown",
      "metadata": {
        "id": "NuzFke8pyO8r"
      },
      "source": [
        "Recompute the accuracy of your model, does it improve your performances with data augmentation?"
      ]
    },
    {
      "cell_type": "code",
      "execution_count": 11,
      "metadata": {
        "colab": {
          "base_uri": "https://localhost:8080/"
        },
        "id": "jsTm86tuyO8r",
        "outputId": "9344a32d-eb3e-4ac0-bd30-c4c654b0dcb7"
      },
      "outputs": [
        {
          "output_type": "stream",
          "name": "stdout",
          "text": [
            "accuracy on train with NN: 0.9287666666666666\n",
            "accuracy on test with NN: 0.8991\n"
          ]
        }
      ],
      "source": [
        "# TODO: Compute the accuracy of your model\n",
        "from sklearn.metrics import accuracy_score\n",
        "\n",
        "batch_size=1024\n",
        "y_pred_train = to_categorical(model.predict(X_train_norm, batch_size = batch_size).argmax(axis=1), num_classes=10)\n",
        "y_pred_test = to_categorical(model.predict(X_test_norm, batch_size = batch_size).argmax(axis=1), num_classes=10)\n",
        "\n",
        "print('accuracy on train with NN:', accuracy_score(y_pred_train, y_train_cat))\n",
        "print('accuracy on test with NN:', accuracy_score(y_pred_test, y_test_cat))"
      ]
    },
    {
      "cell_type": "markdown",
      "metadata": {
        "id": "jOzkdGf7yO8s"
      },
      "source": [
        "You can now try to improve even more your results. For example, add more parameters to your `ImageDataGenerator`, play with some hyperparameters, and so on..."
      ]
    }
  ],
  "metadata": {
    "accelerator": "GPU",
    "colab": {
      "name": "LeNet5.ipynb",
      "provenance": []
    },
    "kernelspec": {
      "display_name": "Python 3",
      "language": "python",
      "name": "python3"
    },
    "language_info": {
      "codemirror_mode": {
        "name": "ipython",
        "version": 3
      },
      "file_extension": ".py",
      "mimetype": "text/x-python",
      "name": "python",
      "nbconvert_exporter": "python",
      "pygments_lexer": "ipython3",
      "version": "3.7.4"
    },
    "toc": {
      "base_numbering": 1,
      "nav_menu": {},
      "number_sections": true,
      "sideBar": true,
      "skip_h1_title": false,
      "title_cell": "Table of Contents",
      "title_sidebar": "Contents",
      "toc_cell": false,
      "toc_position": {},
      "toc_section_display": true,
      "toc_window_display": false
    },
    "varInspector": {
      "cols": {
        "lenName": 16,
        "lenType": 16,
        "lenVar": 40
      },
      "kernels_config": {
        "python": {
          "delete_cmd_postfix": "",
          "delete_cmd_prefix": "del ",
          "library": "var_list.py",
          "varRefreshCmd": "print(var_dic_list())"
        },
        "r": {
          "delete_cmd_postfix": ") ",
          "delete_cmd_prefix": "rm(",
          "library": "var_list.r",
          "varRefreshCmd": "cat(var_dic_list()) "
        }
      },
      "types_to_exclude": [
        "module",
        "function",
        "builtin_function_or_method",
        "instance",
        "_Feature"
      ],
      "window_display": false
    }
  },
  "nbformat": 4,
  "nbformat_minor": 0
}