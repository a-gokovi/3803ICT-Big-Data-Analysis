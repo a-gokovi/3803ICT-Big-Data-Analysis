{
  "cells": [
    {
      "cell_type": "markdown",
      "metadata": {
        "id": "0Y0aX7WxGa7k"
      },
      "source": [
        "# Image Classification by MLP - Fashion MNIST"
      ]
    },
    {
      "cell_type": "markdown",
      "metadata": {
        "id": "GVlT_gEzGa7m"
      },
      "source": [
        "In this exercise, we will try to use a neural network on a simple classification task: classifying images of clothes into 10 classes."
      ]
    },
    {
      "cell_type": "markdown",
      "metadata": {
        "id": "rn5a9HDJGa7m"
      },
      "source": [
        "We will first download the data:"
      ]
    },
    {
      "cell_type": "code",
      "execution_count": 1,
      "metadata": {
        "scrolled": true,
        "colab": {
          "base_uri": "https://localhost:8080/"
        },
        "id": "5y8S--F8Ga7n",
        "outputId": "1b0ecf3e-d91e-4d83-cdb8-72dafcfd4e94"
      },
      "outputs": [
        {
          "output_type": "stream",
          "name": "stdout",
          "text": [
            "Downloading data from https://storage.googleapis.com/tensorflow/tf-keras-datasets/train-labels-idx1-ubyte.gz\n",
            "32768/29515 [=================================] - 0s 0us/step\n",
            "40960/29515 [=========================================] - 0s 0us/step\n",
            "Downloading data from https://storage.googleapis.com/tensorflow/tf-keras-datasets/train-images-idx3-ubyte.gz\n",
            "26427392/26421880 [==============================] - 0s 0us/step\n",
            "26435584/26421880 [==============================] - 0s 0us/step\n",
            "Downloading data from https://storage.googleapis.com/tensorflow/tf-keras-datasets/t10k-labels-idx1-ubyte.gz\n",
            "16384/5148 [===============================================================================================] - 0s 0us/step\n",
            "Downloading data from https://storage.googleapis.com/tensorflow/tf-keras-datasets/t10k-images-idx3-ubyte.gz\n",
            "4423680/4422102 [==============================] - 0s 0us/step\n",
            "4431872/4422102 [==============================] - 0s 0us/step\n"
          ]
        },
        {
          "output_type": "execute_result",
          "data": {
            "text/plain": [
              "(60000, 28, 28)"
            ]
          },
          "metadata": {},
          "execution_count": 1
        }
      ],
      "source": [
        "from tensorflow.keras.datasets import fashion_mnist\n",
        "\n",
        "#TODO: load dataset\n",
        "(X_train, y_train), (X_test, y_test) = fashion_mnist.load_data()\n",
        "\n",
        "#TODO: Resample the dataset if needed\n",
        "#X_train = ...\n",
        "#y_train = ...\n",
        "#X_test = ...\n",
        "#y_test = ...\n",
        "\n",
        "X_train.shape"
      ]
    },
    {
      "cell_type": "markdown",
      "metadata": {
        "id": "VxtxQosUGa7o"
      },
      "source": [
        "This dataset contains 10 classes:\n",
        "* 0:\tT-shirt/top\n",
        "* 1:\tTrouser\n",
        "* 2:\tPullover\n",
        "* 3:\tDress\n",
        "* 4:\tCoat\n",
        "* 5:\tSandal\n",
        "* 6:\tShirt\n",
        "* 7:\tSneaker\n",
        "* 8:\tBag\n",
        "* 9:\tAnkle boot"
      ]
    },
    {
      "cell_type": "markdown",
      "metadata": {
        "id": "9-ZFohh6Ga7o"
      },
      "source": [
        "Now begin by exploring the data. Try to display some images with the associated label."
      ]
    },
    {
      "cell_type": "code",
      "execution_count": 4,
      "metadata": {
        "scrolled": true,
        "colab": {
          "base_uri": "https://localhost:8080/",
          "height": 281
        },
        "id": "aqTOosvqGa7o",
        "outputId": "addb0e86-2b61-4ab6-d21e-08bc62c58aa3"
      },
      "outputs": [
        {
          "output_type": "display_data",
          "data": {
            "text/plain": [
              "<Figure size 432x288 with 1 Axes>"
            ],
            "image/png": "[encoded data removed]"
          },
          "metadata": {
            "needs_background": "light"
          }
        }
      ],
      "source": [
        "# TODO: Explore the data, display some input images\n",
        "%matplotlib inline\n",
        "import matplotlib.pyplot as plt\n",
        "import numpy as np\n",
        "\n",
        "label_class = ['top', 'trouser', 'pullover', 'dress', 'coat', 'sandal', 'shirt', 'sneaker', 'bag', 'ankle boot']\n",
        "\n",
        "# np.random.seed(0)\n",
        "idx = np.random.randint(X_train.shape[0])\n",
        "plt.imshow(X_train[idx], cmap = \"gray_r\")\n",
        "plt.title(label_class[y_train[idx]])\n",
        "plt.show()"
      ]
    },
    {
      "cell_type": "markdown",
      "metadata": {
        "id": "ESJhKwPmGa7o"
      },
      "source": [
        "**Before going further**: what methods could you use to perform such a classification task?"
      ]
    },
    {
      "cell_type": "markdown",
      "metadata": {
        "id": "Hod_-6VhGa7p"
      },
      "source": [
        "---"
      ]
    },
    {
      "cell_type": "markdown",
      "metadata": {
        "id": "zlj-5usBGa7p"
      },
      "source": [
        "The first method you will try is using neural networks. First step is the data preparation: data rescaling, label preparation.\n",
        "\n",
        "Hint: you can use the Keras function `to_categorical`"
      ]
    },
    {
      "cell_type": "code",
      "execution_count": 6,
      "metadata": {
        "colab": {
          "base_uri": "https://localhost:8080/"
        },
        "id": "6h_Y3hZ9Ga7p",
        "outputId": "d50f3cd4-a60b-41e7-d965-d6bd96dd0bd2"
      },
      "outputs": [
        {
          "output_type": "stream",
          "name": "stdout",
          "text": [
            "(60000, 784)\n"
          ]
        }
      ],
      "source": [
        "# TODO: Make the data preparation\n",
        "from tensorflow.keras.utils import to_categorical\n",
        "\n",
        "#Number of classes = 10, 10 different clothing types\n",
        "y_train_cat = to_categorical(y_train, num_classes = 10)\n",
        "y_test_cat = to_categorical(y_test, num_classes = 10)\n",
        "\n",
        "#Currently represented from 0 to 255, want to normalize between 0 and 1\n",
        "X_train_norm = X_train/255\n",
        "X_test_norm = X_test/255\n",
        "\n",
        "# TODO: reshape the image data (2D array) into input 1D array for a neural network\n",
        "X_train_norm = X_train_norm.reshape(X_train_norm.shape[0], np.prod(X_train_norm.shape[1:]))\n",
        "X_test_norm = X_test_norm.reshape(X_test_norm.shape[0], np.prod(X_test_norm.shape[1:]))\n",
        "print(np.shape(X_train_norm))"
      ]
    },
    {
      "cell_type": "markdown",
      "metadata": {
        "id": "ufbQ-9UfGa7p"
      },
      "source": [
        "Next step: model building with Keras. Build your neural network architecture. At first, I would recommend a light architecture: no more than 2 hidden layers, with about 10 units per layer. Put that model into a function, so that you can reuse it later."
      ]
    },
    {
      "cell_type": "code",
      "execution_count": 7,
      "metadata": {
        "colab": {
          "base_uri": "https://localhost:8080/"
        },
        "id": "FKF56t98Ga7p",
        "outputId": "dc6265dd-6794-4bb8-bb67-07012de7b826"
      },
      "outputs": [
        {
          "output_type": "stream",
          "name": "stdout",
          "text": [
            "Model: \"sequential\"\n",
            "_________________________________________________________________\n",
            " Layer (type)                Output Shape              Param #   \n",
            "=================================================================\n",
            " dense (Dense)               (None, 10)                7850      \n",
            "                                                                 \n",
            " dense_1 (Dense)             (None, 10)                110       \n",
            "                                                                 \n",
            " dense_2 (Dense)             (None, 10)                110       \n",
            "                                                                 \n",
            "=================================================================\n",
            "Total params: 8,070\n",
            "Trainable params: 8,070\n",
            "Non-trainable params: 0\n",
            "_________________________________________________________________\n"
          ]
        }
      ],
      "source": [
        "# TODO: Build your model\n",
        "from tensorflow.keras.models import Sequential\n",
        "from tensorflow.keras.layers import Dense\n",
        "\n",
        "def my_model(input_dim):\n",
        "    # Create the Sequential object\n",
        "    model = Sequential()\n",
        "\n",
        "    # Add 2 dense layers with 10 neurons each using sigmoid or relu activation\n",
        "    model.add(Dense(10, input_dim = input_dim, activation = \"sigmoid\"))\n",
        "    model.add(Dense(10, activation = \"sigmoid\"))\n",
        "    \n",
        "    # Add the output layer with one unit: the predicted result\n",
        "    model.add(Dense(10, activation='softmax'))\n",
        "    \n",
        "    return model\n",
        "\n",
        "my_model(X_train_norm.shape[1]).summary()"
      ]
    },
    {
      "cell_type": "markdown",
      "metadata": {
        "id": "FIY5TVEtGa7p"
      },
      "source": [
        "Now compile and fit your model on your training data. Since this is a multiclass classification, the loss is not `binary_crossentropy` anymore, but `categorical_crossentropy`."
      ]
    },
    {
      "cell_type": "code",
      "execution_count": 8,
      "metadata": {
        "scrolled": true,
        "colab": {
          "base_uri": "https://localhost:8080/"
        },
        "id": "-A27Jn2-Ga7q",
        "outputId": "fc23536a-31c3-4eb2-8d29-c997c1c0543e"
      },
      "outputs": [
        {
          "output_type": "stream",
          "name": "stdout",
          "text": [
            "Epoch 1/100\n",
            "469/469 [==============================] - 2s 2ms/step - loss: 1.9243 - accuracy: 0.4191\n",
            "Epoch 2/100\n",
            "469/469 [==============================] - 1s 2ms/step - loss: 1.3167 - accuracy: 0.6578\n",
            "Epoch 3/100\n",
            "469/469 [==============================] - 1s 2ms/step - loss: 0.9709 - accuracy: 0.7382\n",
            "Epoch 4/100\n",
            "469/469 [==============================] - 1s 2ms/step - loss: 0.7776 - accuracy: 0.7645\n",
            "Epoch 5/100\n",
            "469/469 [==============================] - 1s 2ms/step - loss: 0.6727 - accuracy: 0.7789\n",
            "Epoch 6/100\n",
            "469/469 [==============================] - 1s 2ms/step - loss: 0.6096 - accuracy: 0.7937\n",
            "Epoch 7/100\n",
            "469/469 [==============================] - 1s 2ms/step - loss: 0.5654 - accuracy: 0.8158\n",
            "Epoch 8/100\n",
            "469/469 [==============================] - 1s 2ms/step - loss: 0.5316 - accuracy: 0.8287\n",
            "Epoch 9/100\n",
            "469/469 [==============================] - 1s 2ms/step - loss: 0.5032 - accuracy: 0.8360\n",
            "Epoch 10/100\n",
            "469/469 [==============================] - 1s 2ms/step - loss: 0.4813 - accuracy: 0.8415\n",
            "Epoch 11/100\n",
            "469/469 [==============================] - 1s 3ms/step - loss: 0.4646 - accuracy: 0.8455\n",
            "Epoch 12/100\n",
            "469/469 [==============================] - 1s 2ms/step - loss: 0.4516 - accuracy: 0.8486\n",
            "Epoch 13/100\n",
            "469/469 [==============================] - 1s 2ms/step - loss: 0.4418 - accuracy: 0.8501\n",
            "Epoch 14/100\n",
            "469/469 [==============================] - 1s 2ms/step - loss: 0.4331 - accuracy: 0.8528\n",
            "Epoch 15/100\n",
            "469/469 [==============================] - 1s 2ms/step - loss: 0.4263 - accuracy: 0.8546\n",
            "Epoch 16/100\n",
            "469/469 [==============================] - 1s 2ms/step - loss: 0.4197 - accuracy: 0.8563\n",
            "Epoch 17/100\n",
            "469/469 [==============================] - 1s 2ms/step - loss: 0.4139 - accuracy: 0.8589\n",
            "Epoch 18/100\n",
            "469/469 [==============================] - 1s 2ms/step - loss: 0.4092 - accuracy: 0.8598\n",
            "Epoch 19/100\n",
            "469/469 [==============================] - 1s 2ms/step - loss: 0.4054 - accuracy: 0.8609\n",
            "Epoch 20/100\n",
            "469/469 [==============================] - 1s 2ms/step - loss: 0.4002 - accuracy: 0.8632\n",
            "Epoch 21/100\n",
            "469/469 [==============================] - 1s 2ms/step - loss: 0.3966 - accuracy: 0.8640\n",
            "Epoch 22/100\n",
            "469/469 [==============================] - 1s 2ms/step - loss: 0.3937 - accuracy: 0.8645\n",
            "Epoch 23/100\n",
            "469/469 [==============================] - 1s 2ms/step - loss: 0.3899 - accuracy: 0.8661\n",
            "Epoch 24/100\n",
            "469/469 [==============================] - 1s 2ms/step - loss: 0.3869 - accuracy: 0.8666\n",
            "Epoch 25/100\n",
            "469/469 [==============================] - 1s 2ms/step - loss: 0.3839 - accuracy: 0.8682\n",
            "Epoch 26/100\n",
            "469/469 [==============================] - 1s 2ms/step - loss: 0.3819 - accuracy: 0.8682\n",
            "Epoch 27/100\n",
            "469/469 [==============================] - 1s 2ms/step - loss: 0.3785 - accuracy: 0.8696\n",
            "Epoch 28/100\n",
            "469/469 [==============================] - 1s 2ms/step - loss: 0.3763 - accuracy: 0.8699\n",
            "Epoch 29/100\n",
            "469/469 [==============================] - 1s 2ms/step - loss: 0.3741 - accuracy: 0.8705\n",
            "Epoch 30/100\n",
            "469/469 [==============================] - 1s 2ms/step - loss: 0.3724 - accuracy: 0.8720\n",
            "Epoch 31/100\n",
            "469/469 [==============================] - 1s 2ms/step - loss: 0.3700 - accuracy: 0.8720\n",
            "Epoch 32/100\n",
            "469/469 [==============================] - 1s 2ms/step - loss: 0.3675 - accuracy: 0.8729\n",
            "Epoch 33/100\n",
            "469/469 [==============================] - 1s 2ms/step - loss: 0.3659 - accuracy: 0.8724\n",
            "Epoch 34/100\n",
            "469/469 [==============================] - 1s 2ms/step - loss: 0.3640 - accuracy: 0.8744\n",
            "Epoch 35/100\n",
            "469/469 [==============================] - 1s 2ms/step - loss: 0.3630 - accuracy: 0.8745\n",
            "Epoch 36/100\n",
            "469/469 [==============================] - 1s 2ms/step - loss: 0.3602 - accuracy: 0.8756\n",
            "Epoch 37/100\n",
            "469/469 [==============================] - 1s 2ms/step - loss: 0.3588 - accuracy: 0.8766\n",
            "Epoch 38/100\n",
            "469/469 [==============================] - 1s 2ms/step - loss: 0.3575 - accuracy: 0.8759\n",
            "Epoch 39/100\n",
            "469/469 [==============================] - 1s 2ms/step - loss: 0.3556 - accuracy: 0.8767\n",
            "Epoch 40/100\n",
            "469/469 [==============================] - 1s 2ms/step - loss: 0.3552 - accuracy: 0.8774\n",
            "Epoch 41/100\n",
            "469/469 [==============================] - 1s 2ms/step - loss: 0.3526 - accuracy: 0.8774\n",
            "Epoch 42/100\n",
            "469/469 [==============================] - 1s 2ms/step - loss: 0.3512 - accuracy: 0.8781\n",
            "Epoch 43/100\n",
            "469/469 [==============================] - 1s 2ms/step - loss: 0.3502 - accuracy: 0.8781\n",
            "Epoch 44/100\n",
            "469/469 [==============================] - 1s 2ms/step - loss: 0.3489 - accuracy: 0.8783\n",
            "Epoch 45/100\n",
            "469/469 [==============================] - 1s 2ms/step - loss: 0.3474 - accuracy: 0.8791\n",
            "Epoch 46/100\n",
            "469/469 [==============================] - 1s 2ms/step - loss: 0.3467 - accuracy: 0.8794\n",
            "Epoch 47/100\n",
            "469/469 [==============================] - 1s 2ms/step - loss: 0.3460 - accuracy: 0.8783\n",
            "Epoch 48/100\n",
            "469/469 [==============================] - 1s 2ms/step - loss: 0.3440 - accuracy: 0.8794\n",
            "Epoch 49/100\n",
            "469/469 [==============================] - 1s 2ms/step - loss: 0.3424 - accuracy: 0.8808\n",
            "Epoch 50/100\n",
            "469/469 [==============================] - 1s 3ms/step - loss: 0.3421 - accuracy: 0.8799\n",
            "Epoch 51/100\n",
            "469/469 [==============================] - 2s 4ms/step - loss: 0.3406 - accuracy: 0.8805\n",
            "Epoch 52/100\n",
            "469/469 [==============================] - 2s 4ms/step - loss: 0.3385 - accuracy: 0.8811\n",
            "Epoch 53/100\n",
            "469/469 [==============================] - 1s 3ms/step - loss: 0.3387 - accuracy: 0.8816\n",
            "Epoch 54/100\n",
            "469/469 [==============================] - 1s 3ms/step - loss: 0.3378 - accuracy: 0.8813\n",
            "Epoch 55/100\n",
            "469/469 [==============================] - 1s 3ms/step - loss: 0.3354 - accuracy: 0.8824\n",
            "Epoch 56/100\n",
            "469/469 [==============================] - 2s 4ms/step - loss: 0.3348 - accuracy: 0.8823\n",
            "Epoch 57/100\n",
            "469/469 [==============================] - 2s 3ms/step - loss: 0.3342 - accuracy: 0.8828\n",
            "Epoch 58/100\n",
            "469/469 [==============================] - 1s 3ms/step - loss: 0.3339 - accuracy: 0.8817\n",
            "Epoch 59/100\n",
            "469/469 [==============================] - 2s 3ms/step - loss: 0.3316 - accuracy: 0.8839\n",
            "Epoch 60/100\n",
            "469/469 [==============================] - 1s 3ms/step - loss: 0.3313 - accuracy: 0.8835\n",
            "Epoch 61/100\n",
            "469/469 [==============================] - 1s 3ms/step - loss: 0.3302 - accuracy: 0.8838\n",
            "Epoch 62/100\n",
            "469/469 [==============================] - 1s 3ms/step - loss: 0.3302 - accuracy: 0.8829\n",
            "Epoch 63/100\n",
            "469/469 [==============================] - 1s 2ms/step - loss: 0.3278 - accuracy: 0.8847\n",
            "Epoch 64/100\n",
            "469/469 [==============================] - 1s 2ms/step - loss: 0.3276 - accuracy: 0.8836\n",
            "Epoch 65/100\n",
            "469/469 [==============================] - 1s 2ms/step - loss: 0.3272 - accuracy: 0.8852\n",
            "Epoch 66/100\n",
            "469/469 [==============================] - 1s 2ms/step - loss: 0.3269 - accuracy: 0.8844\n",
            "Epoch 67/100\n",
            "469/469 [==============================] - 1s 2ms/step - loss: 0.3250 - accuracy: 0.8856\n",
            "Epoch 68/100\n",
            "469/469 [==============================] - 1s 2ms/step - loss: 0.3259 - accuracy: 0.8849\n",
            "Epoch 69/100\n",
            "469/469 [==============================] - 1s 2ms/step - loss: 0.3241 - accuracy: 0.8862\n",
            "Epoch 70/100\n",
            "469/469 [==============================] - 1s 2ms/step - loss: 0.3239 - accuracy: 0.8863\n",
            "Epoch 71/100\n",
            "469/469 [==============================] - 1s 2ms/step - loss: 0.3225 - accuracy: 0.8859\n",
            "Epoch 72/100\n",
            "469/469 [==============================] - 1s 2ms/step - loss: 0.3232 - accuracy: 0.8858\n",
            "Epoch 73/100\n",
            "469/469 [==============================] - 1s 2ms/step - loss: 0.3210 - accuracy: 0.8870\n",
            "Epoch 74/100\n",
            "469/469 [==============================] - 1s 2ms/step - loss: 0.3209 - accuracy: 0.8862\n",
            "Epoch 75/100\n",
            "469/469 [==============================] - 1s 2ms/step - loss: 0.3203 - accuracy: 0.8868\n",
            "Epoch 76/100\n",
            "469/469 [==============================] - 1s 2ms/step - loss: 0.3191 - accuracy: 0.8881\n",
            "Epoch 77/100\n",
            "469/469 [==============================] - 1s 2ms/step - loss: 0.3188 - accuracy: 0.8872\n",
            "Epoch 78/100\n",
            "469/469 [==============================] - 1s 2ms/step - loss: 0.3184 - accuracy: 0.8872\n",
            "Epoch 79/100\n",
            "469/469 [==============================] - 1s 2ms/step - loss: 0.3189 - accuracy: 0.8877\n",
            "Epoch 80/100\n",
            "469/469 [==============================] - 1s 2ms/step - loss: 0.3166 - accuracy: 0.8888\n",
            "Epoch 81/100\n",
            "469/469 [==============================] - 1s 2ms/step - loss: 0.3163 - accuracy: 0.8885\n",
            "Epoch 82/100\n",
            "469/469 [==============================] - 1s 2ms/step - loss: 0.3168 - accuracy: 0.8881\n",
            "Epoch 83/100\n",
            "469/469 [==============================] - 1s 2ms/step - loss: 0.3165 - accuracy: 0.8879\n",
            "Epoch 84/100\n",
            "469/469 [==============================] - 1s 2ms/step - loss: 0.3146 - accuracy: 0.8890\n",
            "Epoch 85/100\n",
            "469/469 [==============================] - 1s 2ms/step - loss: 0.3147 - accuracy: 0.8885\n",
            "Epoch 86/100\n",
            "469/469 [==============================] - 1s 2ms/step - loss: 0.3140 - accuracy: 0.8892\n",
            "Epoch 87/100\n",
            "469/469 [==============================] - 1s 2ms/step - loss: 0.3137 - accuracy: 0.8888\n",
            "Epoch 88/100\n",
            "469/469 [==============================] - 1s 2ms/step - loss: 0.3135 - accuracy: 0.8894\n",
            "Epoch 89/100\n",
            "469/469 [==============================] - 1s 2ms/step - loss: 0.3115 - accuracy: 0.8902\n",
            "Epoch 90/100\n",
            "469/469 [==============================] - 1s 2ms/step - loss: 0.3116 - accuracy: 0.8899\n",
            "Epoch 91/100\n",
            "469/469 [==============================] - 1s 2ms/step - loss: 0.3125 - accuracy: 0.8894\n",
            "Epoch 92/100\n",
            "469/469 [==============================] - 1s 2ms/step - loss: 0.3108 - accuracy: 0.8895\n",
            "Epoch 93/100\n",
            "469/469 [==============================] - 1s 3ms/step - loss: 0.3107 - accuracy: 0.8895\n",
            "Epoch 94/100\n",
            "469/469 [==============================] - 1s 3ms/step - loss: 0.3096 - accuracy: 0.8901\n",
            "Epoch 95/100\n",
            "469/469 [==============================] - 1s 2ms/step - loss: 0.3089 - accuracy: 0.8914\n",
            "Epoch 96/100\n",
            "469/469 [==============================] - 1s 2ms/step - loss: 0.3094 - accuracy: 0.8909\n",
            "Epoch 97/100\n",
            "469/469 [==============================] - 1s 2ms/step - loss: 0.3089 - accuracy: 0.8904\n",
            "Epoch 98/100\n",
            "469/469 [==============================] - 1s 2ms/step - loss: 0.3082 - accuracy: 0.8906\n",
            "Epoch 99/100\n",
            "469/469 [==============================] - 1s 2ms/step - loss: 0.3072 - accuracy: 0.8915\n",
            "Epoch 100/100\n",
            "469/469 [==============================] - 1s 2ms/step - loss: 0.3064 - accuracy: 0.8918\n"
          ]
        },
        {
          "output_type": "execute_result",
          "data": {
            "text/plain": [
              "<keras.callbacks.History at 0x7f5504b9fad0>"
            ]
          },
          "metadata": {},
          "execution_count": 8
        }
      ],
      "source": [
        "import os\n",
        "\n",
        "#https://stackoverflow.com/questions/53014306/error-15-initializing-libiomp5-dylib-but-found-libiomp5-dylib-already-initial\n",
        "# os.environ['KMP_DUPLICATE_LIB_OK']='True' \n",
        "\n",
        "# TODO: Compile and fit your model\n",
        "model = my_model(X_train_norm.shape[1])\n",
        "\n",
        "model.compile(optimizer='adam', loss='categorical_crossentropy', metrics=['accuracy'])\n",
        "\n",
        "model.fit(X_train_norm, y_train_cat, epochs=100, batch_size=128)"
      ]
    },
    {
      "cell_type": "markdown",
      "metadata": {
        "id": "qpHKcBaFGa7q"
      },
      "source": [
        "Once your model has been trained, compute the accuracy (and other metrics if you want) on the train and test dataset.\n",
        "\n",
        "Be careful, Keras returns softmax output (so an array of 10 values between 0 and 1, for which the sum is equal to 1). To compute correctly the accuracy, you have to convert that array into a categorical array with zeros and a 1."
      ]
    },
    {
      "cell_type": "code",
      "execution_count": 9,
      "metadata": {
        "colab": {
          "base_uri": "https://localhost:8080/"
        },
        "id": "pmBxqF4_Ga7q",
        "outputId": "390497c2-b96b-4d02-e213-7f2b50b7e267"
      },
      "outputs": [
        {
          "output_type": "stream",
          "name": "stdout",
          "text": [
            "accuracy on train with NN: 0.8930166959762573\n",
            "accuracy on test with NN: 0.8543999791145325\n"
          ]
        }
      ],
      "source": [
        "# TODO: Compute the accuracy of your model\n",
        "print('accuracy on train with NN:', model.evaluate(X_train_norm, y_train_cat, verbose=0)[1])\n",
        "print('accuracy on test with NN:', model.evaluate(X_test_norm, y_test_cat, verbose=0)[1])"
      ]
    },
    {
      "cell_type": "markdown",
      "metadata": {
        "id": "J7KguCTFGa7q"
      },
      "source": [
        "What do you think of those results? Can you improve it by changing the number of layers? Of units per layer? The number of epochs? The activation functions?\n",
        "\n",
        "You should try!"
      ]
    },
    {
      "cell_type": "markdown",
      "metadata": {
        "id": "AiAOeHb8Ga7q"
      },
      "source": [
        "---"
      ]
    },
    {
      "cell_type": "markdown",
      "metadata": {
        "id": "dGwECmR-Ga7q"
      },
      "source": [
        "In order to compare your results with more traditional machine learning methods, you will do this work with another method: a PCA followed by a classification model (of your choice). Of course, you can perform hyperparameter optimization using a gridsearch on that model!\n",
        "\n",
        "Fit your model and display the performances."
      ]
    },
    {
      "cell_type": "code",
      "execution_count": 10,
      "metadata": {
        "id": "yNZqr_ldGa7r"
      },
      "outputs": [],
      "source": [
        "# TODO: Redo the classification with PCA and classification model\n",
        "from sklearn.decomposition import PCA\n",
        "\n",
        "pca = PCA(n_components = 0.9) #Keep 90% dimensions and reduce other 10%\n",
        "\n",
        "pca.fit(X_train_norm)\n",
        "X_train_pca = pca.transform(X_train_norm)\n",
        "X_test_pca = pca.transform(X_test_norm)"
      ]
    },
    {
      "cell_type": "code",
      "execution_count": 12,
      "metadata": {
        "colab": {
          "base_uri": "https://localhost:8080/"
        },
        "id": "2t-90tFeGa7r",
        "outputId": "1d548332-6ed0-430e-90b8-6ad287e244ca"
      },
      "outputs": [
        {
          "output_type": "stream",
          "name": "stdout",
          "text": [
            "score with RF on train 1.0\n",
            "score with RF on test 0.861\n"
          ]
        }
      ],
      "source": [
        "# TODO: use any classifier you want\n",
        "from sklearn.ensemble import RandomForestClassifier\n",
        "\n",
        "rf = RandomForestClassifier()\n",
        "\n",
        "rf.fit(X_train_pca, y_train)\n",
        "\n",
        "print('score with RF on train', rf.score(X_train_pca, y_train))\n",
        "print('score with RF on test', rf.score(X_test_pca, y_test))\n"
      ]
    },
    {
      "cell_type": "markdown",
      "metadata": {
        "id": "910oL1S1Ga7r"
      },
      "source": [
        "Are the performances different? Can you explain why?\n",
        "\n",
        "Perfored slightly better than neural network, model may be overfitting to the data"
      ]
    },
    {
      "cell_type": "markdown",
      "metadata": {
        "id": "z5DFpYkWGa7r"
      },
      "source": [
        "If you still have time, you could try to use scikit-learn's `Pipeline` to perform the hyperparameter optimization jointly on the PCA and the classification model. This might improve your performances."
      ]
    }
  ],
  "metadata": {
    "kernelspec": {
      "display_name": "Python 3",
      "language": "python",
      "name": "python3"
    },
    "language_info": {
      "codemirror_mode": {
        "name": "ipython",
        "version": 3
      },
      "file_extension": ".py",
      "mimetype": "text/x-python",
      "name": "python",
      "nbconvert_exporter": "python",
      "pygments_lexer": "ipython3",
      "version": "3.7.4"
    },
    "toc": {
      "base_numbering": 1,
      "nav_menu": {},
      "number_sections": true,
      "sideBar": true,
      "skip_h1_title": false,
      "title_cell": "Table of Contents",
      "title_sidebar": "Contents",
      "toc_cell": false,
      "toc_position": {},
      "toc_section_display": true,
      "toc_window_display": false
    },
    "colab": {
      "name": "Fashion.ipynb",
      "provenance": [],
      "collapsed_sections": []
    }
  },
  "nbformat": 4,
  "nbformat_minor": 0
}