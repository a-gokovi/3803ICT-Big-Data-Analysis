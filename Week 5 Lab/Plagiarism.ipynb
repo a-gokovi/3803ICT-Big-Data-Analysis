{
 "cells": [
  {
   "cell_type": "markdown",
   "id": "33beb648",
   "metadata": {},
   "source": [
    "# Data loading"
   ]
  },
  {
   "cell_type": "code",
   "execution_count": 1,
   "id": "cdaad199",
   "metadata": {},
   "outputs": [],
   "source": [
    "file = open('A1.txt', 'r') \n",
    "A1 = file.readlines()[0]\n",
    "\n",
    "file = open('Asource.txt', 'r') \n",
    "A0 = file.readlines()[0]\n",
    "\n",
    "file = open('B1.txt', 'r') \n",
    "B1 = file.readlines()[0]\n",
    "\n",
    "file = open('Bsource.txt', 'r') \n",
    "B0 = file.readlines()[0]\n",
    "\n",
    "file = open('C1.txt', 'r') \n",
    "C1 = file.readlines()[0]\n",
    "\n",
    "file = open('Csource.txt', 'r') \n",
    "C0 = file.readlines()[0]\n",
    "\n",
    "file = open('D1.txt', 'r') \n",
    "D1 = file.readlines()[0]\n",
    "\n",
    "file = open('D2.txt', 'r') \n",
    "D2 = file.readlines()[0]\n",
    "\n",
    "file = open('Dsource.txt', 'r') \n",
    "D0 = file.readlines()[0]"
   ]
  },
  {
   "cell_type": "code",
   "execution_count": 2,
   "id": "2137980f",
   "metadata": {},
   "outputs": [
    {
     "data": {
      "text/plain": [
       "'Descartes has been heralded as the first modern philosopher. He is famous for having made an important connection between geometry and algebra, which allowed for the solving of geometrical problems by way of algebraic equations. He is also famous for having promoted a new conception of matter, which allowed for the accounting of physical phenomena by way of mechanical explanations. However, he is most famous for having written a relatively short work, Meditationes de Prima Philosophia (Meditations On First Philosophy), published in 1641, in which he provides a philosophical groundwork for the possibility of the sciences. (Smith, 2007).'"
      ]
     },
     "execution_count": 2,
     "metadata": {},
     "output_type": "execute_result"
    }
   ],
   "source": [
    "C0"
   ]
  },
  {
   "cell_type": "code",
   "execution_count": 3,
   "id": "4a45780b",
   "metadata": {},
   "outputs": [],
   "source": [
    "alldata = [A0, A1, B0, B1, C0, C1, D0, D1, D2]"
   ]
  },
  {
   "cell_type": "markdown",
   "id": "28a452df",
   "metadata": {},
   "source": [
    "# Data preprocessing"
   ]
  },
  {
   "cell_type": "code",
   "execution_count": 4,
   "id": "b4f13222",
   "metadata": {},
   "outputs": [],
   "source": [
    "#TODO: Compute tf-idf for all documents\n",
    "from sklearn.feature_extraction.text import TfidfVectorizer\n",
    "\n",
    "tfvect = TfidfVectorizer(stop_words='english')\n",
    "tfvect.fit(alldata)\n",
    "\n",
    "tfidf = tfvect.transform(alldata).toarray()\n",
    "\n",
    "TFIDFA = tfvect.transform([A0, A1]).toarray()\n",
    "TFIDFB = tfvect.transform([B0, B1]).toarray()\n",
    "TFIDFC = tfvect.transform([C0, C1]).toarray()\n",
    "TFIDFD = tfvect.transform([D0, D1, D2]).toarray()"
   ]
  },
  {
   "cell_type": "markdown",
   "id": "197d2f39",
   "metadata": {},
   "source": [
    "# Similarity computation"
   ]
  },
  {
   "cell_type": "code",
   "execution_count": 5,
   "id": "9ca839fe",
   "metadata": {},
   "outputs": [],
   "source": [
    "#TODO: pair-wise similarity\n",
    "from sklearn.metrics.pairwise import cosine_similarity\n",
    "\n",
    "\n",
    "similarityAA = cosine_similarity(TFIDFA, TFIDFA)\n",
    "similarityBB = cosine_similarity(TFIDFB, TFIDFB)\n",
    "similarityCC = cosine_similarity(TFIDFC, TFIDFC)\n",
    "similarityDD = cosine_similarity(TFIDFD, TFIDFD)\n",
    "\n",
    "similarityAll = cosine_similarity(tfidf, tfidf)"
   ]
  },
  {
   "cell_type": "code",
   "execution_count": 6,
   "id": "b083ff64",
   "metadata": {},
   "outputs": [
    {
     "data": {
      "text/plain": [
       "array([[1.        , 0.81269313],\n",
       "       [0.81269313, 1.        ]])"
      ]
     },
     "execution_count": 6,
     "metadata": {},
     "output_type": "execute_result"
    }
   ],
   "source": [
    "similarityAA"
   ]
  },
  {
   "cell_type": "code",
   "execution_count": 7,
   "id": "4c305cec",
   "metadata": {},
   "outputs": [
    {
     "data": {
      "text/plain": [
       "array([[1.       , 0.6145188],\n",
       "       [0.6145188, 1.       ]])"
      ]
     },
     "execution_count": 7,
     "metadata": {},
     "output_type": "execute_result"
    }
   ],
   "source": [
    "similarityBB"
   ]
  },
  {
   "cell_type": "code",
   "execution_count": 8,
   "id": "0e5be749",
   "metadata": {},
   "outputs": [
    {
     "data": {
      "text/plain": [
       "array([[1.        , 0.79523042],\n",
       "       [0.79523042, 1.        ]])"
      ]
     },
     "execution_count": 8,
     "metadata": {},
     "output_type": "execute_result"
    }
   ],
   "source": [
    "similarityCC"
   ]
  },
  {
   "cell_type": "code",
   "execution_count": 9,
   "id": "303e51f6",
   "metadata": {},
   "outputs": [
    {
     "data": {
      "text/plain": [
       "array([[1.        , 0.89063354, 0.29631597],\n",
       "       [0.89063354, 1.        , 0.29102482],\n",
       "       [0.29631597, 0.29102482, 1.        ]])"
      ]
     },
     "execution_count": 9,
     "metadata": {},
     "output_type": "execute_result"
    }
   ],
   "source": [
    "similarityDD"
   ]
  },
  {
   "cell_type": "code",
   "execution_count": 10,
   "id": "ed0ce660",
   "metadata": {},
   "outputs": [
    {
     "data": {
      "text/plain": [
       "array([[1.        , 0.81269313, 0.        , 0.        , 0.        ,\n",
       "        0.        , 0.01155606, 0.01134971, 0.01107722],\n",
       "       [0.81269313, 1.        , 0.01385794, 0.01433889, 0.01459315,\n",
       "        0.01826465, 0.01214488, 0.01192802, 0.01164164],\n",
       "       [0.        , 0.01385794, 1.        , 0.6145188 , 0.02434957,\n",
       "        0.        , 0.01095688, 0.01076123, 0.        ],\n",
       "       [0.        , 0.01433889, 0.6145188 , 1.        , 0.01084673,\n",
       "        0.        , 0.01133714, 0.0111347 , 0.        ],\n",
       "       [0.        , 0.01459315, 0.02434957, 0.01084673, 1.        ,\n",
       "        0.79523042, 0.        , 0.        , 0.01416745],\n",
       "       [0.        , 0.01826465, 0.        , 0.        , 0.79523042,\n",
       "        1.        , 0.        , 0.        , 0.01773184],\n",
       "       [0.01155606, 0.01214488, 0.01095688, 0.01133714, 0.        ,\n",
       "        0.        , 1.        , 0.89063354, 0.29631597],\n",
       "       [0.01134971, 0.01192802, 0.01076123, 0.0111347 , 0.        ,\n",
       "        0.        , 0.89063354, 1.        , 0.29102482],\n",
       "       [0.01107722, 0.01164164, 0.        , 0.        , 0.01416745,\n",
       "        0.01773184, 0.29631597, 0.29102482, 1.        ]])"
      ]
     },
     "execution_count": 10,
     "metadata": {},
     "output_type": "execute_result"
    }
   ],
   "source": [
    "similarityAll"
   ]
  },
  {
   "cell_type": "code",
   "execution_count": 11,
   "id": "9ac8466e",
   "metadata": {},
   "outputs": [
    {
     "data": {
      "image/png": "[encoded data removed]",
      "text/plain": [
       "<Figure size 432x288 with 1 Axes>"
      ]
     },
     "metadata": {
      "needs_background": "light"
     },
     "output_type": "display_data"
    }
   ],
   "source": [
    "import matplotlib.pyplot as plt\n",
    "\n",
    "#TODO: show pair-wise similarity\n",
    "\n",
    "plt.imshow(similarityAll)\n",
    "plt.show()"
   ]
  },
  {
   "cell_type": "markdown",
   "id": "b06218ae",
   "metadata": {},
   "source": [
    "# Threshold definition"
   ]
  },
  {
   "cell_type": "code",
   "execution_count": 12,
   "id": "406e384c",
   "metadata": {},
   "outputs": [
    {
     "data": {
      "image/png": "[encoded data removed]",
      "text/plain": [
       "<Figure size 432x288 with 1 Axes>"
      ]
     },
     "metadata": {
      "needs_background": "light"
     },
     "output_type": "display_data"
    }
   ],
   "source": [
    "pred_plagiarism = similarityAll>0.2\n",
    "\n",
    "#TODO: show pair-wise similarity\n",
    "\n",
    "plt.imshow(pred_plagiarism)\n",
    "plt.show()"
   ]
  },
  {
   "cell_type": "markdown",
   "id": "c5ddaef5",
   "metadata": {},
   "source": [
    "# Perf estimation"
   ]
  },
  {
   "cell_type": "code",
   "execution_count": 20,
   "id": "bc10f12c",
   "metadata": {},
   "outputs": [],
   "source": [
    "import numpy as np\n",
    "real_plagiarism = np.zeros((9,9))\n",
    "\n",
    "# TODO: build the true labels matrix (to do automatically would be better...)\n",
    "for i in range(len(real_plagiarism)):\n",
    "    real_plagiarism[i,i] = 1\n",
    "    if i == 0 or i == 2 or i == 4 or i == 6:\n",
    "        real_plagiarism[i, i+1] = 1\n",
    "        real_plagiarism[i+1, i] = 1\n",
    "    if i == 6:\n",
    "        real_plagiarism[i+2, i] = 1\n",
    "        real_plagiarism[i+2, i+1] = 1\n",
    "        real_plagiarism[i, i+2] = 1\n",
    "        real_plagiarism[i+1, i+2] = 1"
   ]
  },
  {
   "cell_type": "code",
   "execution_count": 21,
   "id": "9afc5fef",
   "metadata": {},
   "outputs": [
    {
     "data": {
      "image/png": "[encoded data removed]",
      "text/plain": [
       "<Figure size 432x288 with 1 Axes>"
      ]
     },
     "metadata": {
      "needs_background": "light"
     },
     "output_type": "display_data"
    }
   ],
   "source": [
    "plt.imshow(real_plagiarism)\n",
    "plt.show()"
   ]
  },
  {
   "cell_type": "code",
   "execution_count": 22,
   "id": "d723535e",
   "metadata": {},
   "outputs": [
    {
     "data": {
      "text/plain": [
       "1.0"
      ]
     },
     "execution_count": 22,
     "metadata": {},
     "output_type": "execute_result"
    }
   ],
   "source": [
    "from sklearn.metrics import accuracy_score\n",
    "\n",
    "#TODO: compute the accuracy score based on true matrices\n",
    "\n",
    "accuracy_score(real_plagiarism, pred_plagiarism)"
   ]
  },
  {
   "cell_type": "code",
   "execution_count": null,
   "id": "28ee730f",
   "metadata": {},
   "outputs": [],
   "source": []
  }
 ],
 "metadata": {
  "kernelspec": {
   "display_name": "Python 3 (ipykernel)",
   "language": "python",
   "name": "python3"
  },
  "language_info": {
   "codemirror_mode": {
    "name": "ipython",
    "version": 3
   },
   "file_extension": ".py",
   "mimetype": "text/x-python",
   "name": "python",
   "nbconvert_exporter": "python",
   "pygments_lexer": "ipython3",
   "version": "3.10.0"
  }
 },
 "nbformat": 4,
 "nbformat_minor": 5
}
